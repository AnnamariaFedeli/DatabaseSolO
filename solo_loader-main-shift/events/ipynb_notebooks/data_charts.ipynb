{
 "cells": [
  {
   "cell_type": "code",
   "execution_count": 1,
   "id": "9c1be54b",
   "metadata": {},
   "outputs": [],
   "source": [
    "from matplotlib.ticker import LinearLocator, MultipleLocator, AutoMinorLocator\n",
    "import matplotlib.dates as mdates\n",
    "from matplotlib.ticker import FormatStrFormatter\n",
    "from adjustText import adjust_text\n",
    "from astropy import units as u\n",
    "import sys\n",
    "import site\n",
    "import matplotlib.pyplot as plt\n",
    "from math import *\n",
    "from tkinter import *\n",
    "import astropy.units as u\n",
    "import numpy as np\n",
    "import pandas as pd\n",
    "import plotly.express as px"
   ]
  },
  {
   "cell_type": "code",
   "execution_count": 2,
   "id": "925b0b82",
   "metadata": {},
   "outputs": [],
   "source": [
    "fit_run = pd.read_excel(r'C:\\Users\\Omistaja\\Desktop\\SRL\\2021SRL\\epd_plot-main\\solo_loader-main-shift\\events\\fit-run-all.xlsx')\n",
    "make_fit = pd.read_excel(r'C:\\Users\\Omistaja\\Desktop\\SRL\\2021SRL\\epd_plot-main\\solo_loader-main-shift\\events\\make-fit.xlsx')"
   ]
  },
  {
   "cell_type": "code",
   "execution_count": 3,
   "id": "37cc226b",
   "metadata": {
    "scrolled": true
   },
   "outputs": [
    {
     "data": {
      "text/html": [
       "<div>\n",
       "<style scoped>\n",
       "    .dataframe tbody tr th:only-of-type {\n",
       "        vertical-align: middle;\n",
       "    }\n",
       "\n",
       "    .dataframe tbody tr th {\n",
       "        vertical-align: top;\n",
       "    }\n",
       "\n",
       "    .dataframe thead th {\n",
       "        text-align: right;\n",
       "    }\n",
       "</style>\n",
       "<table border=\"1\" class=\"dataframe\">\n",
       "  <thead>\n",
       "    <tr style=\"text-align: right;\">\n",
       "      <th></th>\n",
       "      <th>Source.Name</th>\n",
       "      <th>Column1</th>\n",
       "      <th>date</th>\n",
       "      <th>averaging_min</th>\n",
       "      <th>direction</th>\n",
       "      <th>data_type</th>\n",
       "      <th>min_e_mev</th>\n",
       "      <th>max_e_mev</th>\n",
       "      <th>distance_au</th>\n",
       "      <th>STEP</th>\n",
       "      <th>...</th>\n",
       "      <th>min_energy</th>\n",
       "      <th>max_energy</th>\n",
       "      <th>gamma1_guess</th>\n",
       "      <th>gamma2_guess</th>\n",
       "      <th>c1_guess</th>\n",
       "      <th>alpha_guess</th>\n",
       "      <th>break_guess_mev</th>\n",
       "      <th>cutoff_point_guess_mev</th>\n",
       "      <th>use_random</th>\n",
       "      <th>iterations</th>\n",
       "    </tr>\n",
       "  </thead>\n",
       "  <tbody>\n",
       "    <tr>\n",
       "      <th>0</th>\n",
       "      <td>2020-11-17-0932-all-fit-variables_ept_het-peak...</td>\n",
       "      <td>0</td>\n",
       "      <td>2020-11-17</td>\n",
       "      <td>2min</td>\n",
       "      <td>sun</td>\n",
       "      <td>l2</td>\n",
       "      <td>0.004575</td>\n",
       "      <td>0.208593</td>\n",
       "      <td>0.93</td>\n",
       "      <td>True</td>\n",
       "      <td>...</td>\n",
       "      <td>NaN</td>\n",
       "      <td>NaN</td>\n",
       "      <td>-1.9</td>\n",
       "      <td>-2.5</td>\n",
       "      <td>1000.0</td>\n",
       "      <td>7.16</td>\n",
       "      <td>0.1</td>\n",
       "      <td>0.12</td>\n",
       "      <td>True</td>\n",
       "      <td>20</td>\n",
       "    </tr>\n",
       "    <tr>\n",
       "      <th>1</th>\n",
       "      <td>2020-11-17-0932-all-fit-variables_ept_het-peak...</td>\n",
       "      <td>0</td>\n",
       "      <td>2020-11-17</td>\n",
       "      <td>5min</td>\n",
       "      <td>sun</td>\n",
       "      <td>l2</td>\n",
       "      <td>0.004575</td>\n",
       "      <td>1.590048</td>\n",
       "      <td>0.93</td>\n",
       "      <td>True</td>\n",
       "      <td>...</td>\n",
       "      <td>NaN</td>\n",
       "      <td>NaN</td>\n",
       "      <td>-1.9</td>\n",
       "      <td>-2.5</td>\n",
       "      <td>1000.0</td>\n",
       "      <td>7.16</td>\n",
       "      <td>0.1</td>\n",
       "      <td>0.12</td>\n",
       "      <td>True</td>\n",
       "      <td>20</td>\n",
       "    </tr>\n",
       "    <tr>\n",
       "      <th>2</th>\n",
       "      <td>2020-11-17-0932-all-fit-variables_ept-peak-bes...</td>\n",
       "      <td>0</td>\n",
       "      <td>2020-11-17</td>\n",
       "      <td>1min</td>\n",
       "      <td>sun</td>\n",
       "      <td>l2</td>\n",
       "      <td>0.004575</td>\n",
       "      <td>0.191333</td>\n",
       "      <td>0.93</td>\n",
       "      <td>True</td>\n",
       "      <td>...</td>\n",
       "      <td>NaN</td>\n",
       "      <td>NaN</td>\n",
       "      <td>-1.9</td>\n",
       "      <td>-2.5</td>\n",
       "      <td>1000.0</td>\n",
       "      <td>7.16</td>\n",
       "      <td>0.1</td>\n",
       "      <td>0.12</td>\n",
       "      <td>True</td>\n",
       "      <td>20</td>\n",
       "    </tr>\n",
       "    <tr>\n",
       "      <th>3</th>\n",
       "      <td>2020-11-17-0932-all-fit-variables_ept-peak-bes...</td>\n",
       "      <td>0</td>\n",
       "      <td>2020-11-17</td>\n",
       "      <td>2min</td>\n",
       "      <td>sun</td>\n",
       "      <td>l2</td>\n",
       "      <td>0.004575</td>\n",
       "      <td>0.208593</td>\n",
       "      <td>0.93</td>\n",
       "      <td>True</td>\n",
       "      <td>...</td>\n",
       "      <td>NaN</td>\n",
       "      <td>NaN</td>\n",
       "      <td>-1.9</td>\n",
       "      <td>-2.5</td>\n",
       "      <td>1000.0</td>\n",
       "      <td>7.16</td>\n",
       "      <td>0.1</td>\n",
       "      <td>0.12</td>\n",
       "      <td>True</td>\n",
       "      <td>20</td>\n",
       "    </tr>\n",
       "    <tr>\n",
       "      <th>4</th>\n",
       "      <td>2020-11-17-0932-all-fit-variables_ept-peak-bes...</td>\n",
       "      <td>0</td>\n",
       "      <td>2020-11-17</td>\n",
       "      <td>5min</td>\n",
       "      <td>sun</td>\n",
       "      <td>l2</td>\n",
       "      <td>0.004575</td>\n",
       "      <td>1.590048</td>\n",
       "      <td>0.93</td>\n",
       "      <td>True</td>\n",
       "      <td>...</td>\n",
       "      <td>NaN</td>\n",
       "      <td>NaN</td>\n",
       "      <td>-1.9</td>\n",
       "      <td>-2.5</td>\n",
       "      <td>1000.0</td>\n",
       "      <td>7.16</td>\n",
       "      <td>0.1</td>\n",
       "      <td>0.12</td>\n",
       "      <td>True</td>\n",
       "      <td>20</td>\n",
       "    </tr>\n",
       "    <tr>\n",
       "      <th>...</th>\n",
       "      <td>...</td>\n",
       "      <td>...</td>\n",
       "      <td>...</td>\n",
       "      <td>...</td>\n",
       "      <td>...</td>\n",
       "      <td>...</td>\n",
       "      <td>...</td>\n",
       "      <td>...</td>\n",
       "      <td>...</td>\n",
       "      <td>...</td>\n",
       "      <td>...</td>\n",
       "      <td>...</td>\n",
       "      <td>...</td>\n",
       "      <td>...</td>\n",
       "      <td>...</td>\n",
       "      <td>...</td>\n",
       "      <td>...</td>\n",
       "      <td>...</td>\n",
       "      <td>...</td>\n",
       "      <td>...</td>\n",
       "      <td>...</td>\n",
       "    </tr>\n",
       "    <tr>\n",
       "      <th>278</th>\n",
       "      <td>2021-10-09-0633-all-fit-variables_ept_het-peak...</td>\n",
       "      <td>0</td>\n",
       "      <td>2021-10-09</td>\n",
       "      <td>2min</td>\n",
       "      <td>sun</td>\n",
       "      <td>l2</td>\n",
       "      <td>0.006883</td>\n",
       "      <td>1.590048</td>\n",
       "      <td>0.68</td>\n",
       "      <td>True</td>\n",
       "      <td>...</td>\n",
       "      <td>NaN</td>\n",
       "      <td>NaN</td>\n",
       "      <td>-1.9</td>\n",
       "      <td>-2.5</td>\n",
       "      <td>1000.0</td>\n",
       "      <td>7.16</td>\n",
       "      <td>0.1</td>\n",
       "      <td>0.12</td>\n",
       "      <td>True</td>\n",
       "      <td>20</td>\n",
       "    </tr>\n",
       "    <tr>\n",
       "      <th>279</th>\n",
       "      <td>2021-10-09-0633-all-fit-variables_ept_het-peak...</td>\n",
       "      <td>0</td>\n",
       "      <td>2021-10-09</td>\n",
       "      <td>5min</td>\n",
       "      <td>sun</td>\n",
       "      <td>l2</td>\n",
       "      <td>0.006883</td>\n",
       "      <td>3.793309</td>\n",
       "      <td>0.68</td>\n",
       "      <td>True</td>\n",
       "      <td>...</td>\n",
       "      <td>NaN</td>\n",
       "      <td>NaN</td>\n",
       "      <td>-1.9</td>\n",
       "      <td>-2.5</td>\n",
       "      <td>1000.0</td>\n",
       "      <td>7.16</td>\n",
       "      <td>0.1</td>\n",
       "      <td>0.12</td>\n",
       "      <td>True</td>\n",
       "      <td>20</td>\n",
       "    </tr>\n",
       "    <tr>\n",
       "      <th>280</th>\n",
       "      <td>2021-10-09-0633-all-fit-variables_ept-peak-bes...</td>\n",
       "      <td>0</td>\n",
       "      <td>2021-10-09</td>\n",
       "      <td>1min</td>\n",
       "      <td>sun</td>\n",
       "      <td>l2</td>\n",
       "      <td>0.010028</td>\n",
       "      <td>1.590048</td>\n",
       "      <td>0.68</td>\n",
       "      <td>True</td>\n",
       "      <td>...</td>\n",
       "      <td>NaN</td>\n",
       "      <td>NaN</td>\n",
       "      <td>-1.9</td>\n",
       "      <td>-2.5</td>\n",
       "      <td>1000.0</td>\n",
       "      <td>7.16</td>\n",
       "      <td>0.1</td>\n",
       "      <td>0.12</td>\n",
       "      <td>True</td>\n",
       "      <td>20</td>\n",
       "    </tr>\n",
       "    <tr>\n",
       "      <th>281</th>\n",
       "      <td>2021-10-09-0633-all-fit-variables_ept-peak-bes...</td>\n",
       "      <td>0</td>\n",
       "      <td>2021-10-09</td>\n",
       "      <td>2min</td>\n",
       "      <td>sun</td>\n",
       "      <td>l2</td>\n",
       "      <td>0.006883</td>\n",
       "      <td>1.590048</td>\n",
       "      <td>0.68</td>\n",
       "      <td>True</td>\n",
       "      <td>...</td>\n",
       "      <td>NaN</td>\n",
       "      <td>NaN</td>\n",
       "      <td>-1.9</td>\n",
       "      <td>-2.5</td>\n",
       "      <td>1000.0</td>\n",
       "      <td>7.16</td>\n",
       "      <td>0.1</td>\n",
       "      <td>0.12</td>\n",
       "      <td>True</td>\n",
       "      <td>20</td>\n",
       "    </tr>\n",
       "    <tr>\n",
       "      <th>282</th>\n",
       "      <td>2021-10-09-0633-all-fit-variables_ept-peak-bes...</td>\n",
       "      <td>0</td>\n",
       "      <td>2021-10-09</td>\n",
       "      <td>5min</td>\n",
       "      <td>sun</td>\n",
       "      <td>l2</td>\n",
       "      <td>0.006883</td>\n",
       "      <td>3.793309</td>\n",
       "      <td>0.68</td>\n",
       "      <td>True</td>\n",
       "      <td>...</td>\n",
       "      <td>NaN</td>\n",
       "      <td>NaN</td>\n",
       "      <td>-1.9</td>\n",
       "      <td>-2.5</td>\n",
       "      <td>1000.0</td>\n",
       "      <td>7.16</td>\n",
       "      <td>0.1</td>\n",
       "      <td>0.12</td>\n",
       "      <td>True</td>\n",
       "      <td>20</td>\n",
       "    </tr>\n",
       "  </tbody>\n",
       "</table>\n",
       "<p>283 rows × 31 columns</p>\n",
       "</div>"
      ],
      "text/plain": [
       "                                           Source.Name  Column1       date  \\\n",
       "0    2020-11-17-0932-all-fit-variables_ept_het-peak...        0 2020-11-17   \n",
       "1    2020-11-17-0932-all-fit-variables_ept_het-peak...        0 2020-11-17   \n",
       "2    2020-11-17-0932-all-fit-variables_ept-peak-bes...        0 2020-11-17   \n",
       "3    2020-11-17-0932-all-fit-variables_ept-peak-bes...        0 2020-11-17   \n",
       "4    2020-11-17-0932-all-fit-variables_ept-peak-bes...        0 2020-11-17   \n",
       "..                                                 ...      ...        ...   \n",
       "278  2021-10-09-0633-all-fit-variables_ept_het-peak...        0 2021-10-09   \n",
       "279  2021-10-09-0633-all-fit-variables_ept_het-peak...        0 2021-10-09   \n",
       "280  2021-10-09-0633-all-fit-variables_ept-peak-bes...        0 2021-10-09   \n",
       "281  2021-10-09-0633-all-fit-variables_ept-peak-bes...        0 2021-10-09   \n",
       "282  2021-10-09-0633-all-fit-variables_ept-peak-bes...        0 2021-10-09   \n",
       "\n",
       "    averaging_min direction data_type  min_e_mev  max_e_mev  distance_au  \\\n",
       "0            2min       sun        l2   0.004575   0.208593         0.93   \n",
       "1            5min       sun        l2   0.004575   1.590048         0.93   \n",
       "2            1min       sun        l2   0.004575   0.191333         0.93   \n",
       "3            2min       sun        l2   0.004575   0.208593         0.93   \n",
       "4            5min       sun        l2   0.004575   1.590048         0.93   \n",
       "..            ...       ...       ...        ...        ...          ...   \n",
       "278          2min       sun        l2   0.006883   1.590048         0.68   \n",
       "279          5min       sun        l2   0.006883   3.793309         0.68   \n",
       "280          1min       sun        l2   0.010028   1.590048         0.68   \n",
       "281          2min       sun        l2   0.006883   1.590048         0.68   \n",
       "282          5min       sun        l2   0.006883   3.793309         0.68   \n",
       "\n",
       "     STEP  ...  min_energy  max_energy  gamma1_guess  gamma2_guess  c1_guess  \\\n",
       "0    True  ...         NaN         NaN          -1.9          -2.5    1000.0   \n",
       "1    True  ...         NaN         NaN          -1.9          -2.5    1000.0   \n",
       "2    True  ...         NaN         NaN          -1.9          -2.5    1000.0   \n",
       "3    True  ...         NaN         NaN          -1.9          -2.5    1000.0   \n",
       "4    True  ...         NaN         NaN          -1.9          -2.5    1000.0   \n",
       "..    ...  ...         ...         ...           ...           ...       ...   \n",
       "278  True  ...         NaN         NaN          -1.9          -2.5    1000.0   \n",
       "279  True  ...         NaN         NaN          -1.9          -2.5    1000.0   \n",
       "280  True  ...         NaN         NaN          -1.9          -2.5    1000.0   \n",
       "281  True  ...         NaN         NaN          -1.9          -2.5    1000.0   \n",
       "282  True  ...         NaN         NaN          -1.9          -2.5    1000.0   \n",
       "\n",
       "     alpha_guess  break_guess_mev cutoff_point_guess_mev use_random iterations  \n",
       "0           7.16              0.1                   0.12       True         20  \n",
       "1           7.16              0.1                   0.12       True         20  \n",
       "2           7.16              0.1                   0.12       True         20  \n",
       "3           7.16              0.1                   0.12       True         20  \n",
       "4           7.16              0.1                   0.12       True         20  \n",
       "..           ...              ...                    ...        ...        ...  \n",
       "278         7.16              0.1                   0.12       True         20  \n",
       "279         7.16              0.1                   0.12       True         20  \n",
       "280         7.16              0.1                   0.12       True         20  \n",
       "281         7.16              0.1                   0.12       True         20  \n",
       "282         7.16              0.1                   0.12       True         20  \n",
       "\n",
       "[283 rows x 31 columns]"
      ]
     },
     "execution_count": 3,
     "metadata": {},
     "output_type": "execute_result"
    }
   ],
   "source": [
    "fit_run"
   ]
  },
  {
   "cell_type": "code",
   "execution_count": 4,
   "id": "b14cd672",
   "metadata": {
    "scrolled": true
   },
   "outputs": [
    {
     "data": {
      "text/html": [
       "<div>\n",
       "<style scoped>\n",
       "    .dataframe tbody tr th:only-of-type {\n",
       "        vertical-align: middle;\n",
       "    }\n",
       "\n",
       "    .dataframe tbody tr th {\n",
       "        vertical-align: top;\n",
       "    }\n",
       "\n",
       "    .dataframe thead th {\n",
       "        text-align: right;\n",
       "    }\n",
       "</style>\n",
       "<table border=\"1\" class=\"dataframe\">\n",
       "  <thead>\n",
       "    <tr style=\"text-align: right;\">\n",
       "      <th></th>\n",
       "      <th>Source.Name</th>\n",
       "      <th>averaging</th>\n",
       "      <th>final_fit_type</th>\n",
       "      <th>reduced_chi_sq</th>\n",
       "      <th>c1</th>\n",
       "      <th>c1_err</th>\n",
       "      <th>gamma1</th>\n",
       "      <th>gamma1_err</th>\n",
       "      <th>gamma2</th>\n",
       "      <th>gamma2_err</th>\n",
       "      <th>...</th>\n",
       "      <th>month</th>\n",
       "      <th>day</th>\n",
       "      <th>time</th>\n",
       "      <th>fit_to</th>\n",
       "      <th>fit_type</th>\n",
       "      <th>data</th>\n",
       "      <th>aver</th>\n",
       "      <th>step</th>\n",
       "      <th>ept</th>\n",
       "      <th>het</th>\n",
       "    </tr>\n",
       "  </thead>\n",
       "  <tbody>\n",
       "    <tr>\n",
       "      <th>0</th>\n",
       "      <td>2020-11-17-0932-fit-result-variables_ept_het-p...</td>\n",
       "      <td>2</td>\n",
       "      <td>broken</td>\n",
       "      <td>0.120527</td>\n",
       "      <td>799.344912</td>\n",
       "      <td>70.692297</td>\n",
       "      <td>-5.126234</td>\n",
       "      <td>1.108236</td>\n",
       "      <td>-2.303989</td>\n",
       "      <td>1.345064</td>\n",
       "      <td>...</td>\n",
       "      <td>11</td>\n",
       "      <td>17</td>\n",
       "      <td>932</td>\n",
       "      <td>peak</td>\n",
       "      <td>best</td>\n",
       "      <td>l2</td>\n",
       "      <td>2min</td>\n",
       "      <td>NaN</td>\n",
       "      <td>ept</td>\n",
       "      <td>het</td>\n",
       "    </tr>\n",
       "    <tr>\n",
       "      <th>1</th>\n",
       "      <td>2020-11-17-0932-fit-result-variables_ept_het-p...</td>\n",
       "      <td>5</td>\n",
       "      <td>broken_cut</td>\n",
       "      <td>0.235300</td>\n",
       "      <td>612.095317</td>\n",
       "      <td>94.108332</td>\n",
       "      <td>-6.493738</td>\n",
       "      <td>8.515233</td>\n",
       "      <td>-2.411906</td>\n",
       "      <td>34.511053</td>\n",
       "      <td>...</td>\n",
       "      <td>11</td>\n",
       "      <td>17</td>\n",
       "      <td>932</td>\n",
       "      <td>peak</td>\n",
       "      <td>best</td>\n",
       "      <td>l2</td>\n",
       "      <td>5min</td>\n",
       "      <td>NaN</td>\n",
       "      <td>ept</td>\n",
       "      <td>het</td>\n",
       "    </tr>\n",
       "    <tr>\n",
       "      <th>2</th>\n",
       "      <td>2020-11-17-0932-fit-result-variables_ept-peak-...</td>\n",
       "      <td>1</td>\n",
       "      <td>single</td>\n",
       "      <td>0.888863</td>\n",
       "      <td>0.072563</td>\n",
       "      <td>0.067506</td>\n",
       "      <td>-4.121725</td>\n",
       "      <td>0.312002</td>\n",
       "      <td>NaN</td>\n",
       "      <td>NaN</td>\n",
       "      <td>...</td>\n",
       "      <td>11</td>\n",
       "      <td>17</td>\n",
       "      <td>932</td>\n",
       "      <td>peak</td>\n",
       "      <td>best</td>\n",
       "      <td>l2</td>\n",
       "      <td>1min</td>\n",
       "      <td>NaN</td>\n",
       "      <td>ept</td>\n",
       "      <td>NaN</td>\n",
       "    </tr>\n",
       "    <tr>\n",
       "      <th>3</th>\n",
       "      <td>2020-11-17-0932-fit-result-variables_ept-peak-...</td>\n",
       "      <td>2</td>\n",
       "      <td>broken</td>\n",
       "      <td>0.120527</td>\n",
       "      <td>799.346444</td>\n",
       "      <td>70.692150</td>\n",
       "      <td>-5.126262</td>\n",
       "      <td>1.108306</td>\n",
       "      <td>-2.303987</td>\n",
       "      <td>1.345100</td>\n",
       "      <td>...</td>\n",
       "      <td>11</td>\n",
       "      <td>17</td>\n",
       "      <td>932</td>\n",
       "      <td>peak</td>\n",
       "      <td>best</td>\n",
       "      <td>l2</td>\n",
       "      <td>2min</td>\n",
       "      <td>NaN</td>\n",
       "      <td>ept</td>\n",
       "      <td>NaN</td>\n",
       "    </tr>\n",
       "    <tr>\n",
       "      <th>4</th>\n",
       "      <td>2020-11-17-0932-fit-result-variables_ept-peak-...</td>\n",
       "      <td>5</td>\n",
       "      <td>broken</td>\n",
       "      <td>0.234333</td>\n",
       "      <td>593.961596</td>\n",
       "      <td>56.486671</td>\n",
       "      <td>-6.088854</td>\n",
       "      <td>5.056150</td>\n",
       "      <td>-0.016740</td>\n",
       "      <td>8.992800</td>\n",
       "      <td>...</td>\n",
       "      <td>11</td>\n",
       "      <td>17</td>\n",
       "      <td>932</td>\n",
       "      <td>peak</td>\n",
       "      <td>best</td>\n",
       "      <td>l2</td>\n",
       "      <td>5min</td>\n",
       "      <td>NaN</td>\n",
       "      <td>ept</td>\n",
       "      <td>NaN</td>\n",
       "    </tr>\n",
       "    <tr>\n",
       "      <th>...</th>\n",
       "      <td>...</td>\n",
       "      <td>...</td>\n",
       "      <td>...</td>\n",
       "      <td>...</td>\n",
       "      <td>...</td>\n",
       "      <td>...</td>\n",
       "      <td>...</td>\n",
       "      <td>...</td>\n",
       "      <td>...</td>\n",
       "      <td>...</td>\n",
       "      <td>...</td>\n",
       "      <td>...</td>\n",
       "      <td>...</td>\n",
       "      <td>...</td>\n",
       "      <td>...</td>\n",
       "      <td>...</td>\n",
       "      <td>...</td>\n",
       "      <td>...</td>\n",
       "      <td>...</td>\n",
       "      <td>...</td>\n",
       "      <td>...</td>\n",
       "    </tr>\n",
       "    <tr>\n",
       "      <th>278</th>\n",
       "      <td>2021-10-09-0633-fit-result-variables_ept_het-p...</td>\n",
       "      <td>2</td>\n",
       "      <td>broken</td>\n",
       "      <td>0.712649</td>\n",
       "      <td>28736.545236</td>\n",
       "      <td>1854.723289</td>\n",
       "      <td>-2.106566</td>\n",
       "      <td>0.424509</td>\n",
       "      <td>-3.602886</td>\n",
       "      <td>0.114122</td>\n",
       "      <td>...</td>\n",
       "      <td>10</td>\n",
       "      <td>9</td>\n",
       "      <td>633</td>\n",
       "      <td>peak</td>\n",
       "      <td>best</td>\n",
       "      <td>l2</td>\n",
       "      <td>2min</td>\n",
       "      <td>NaN</td>\n",
       "      <td>ept</td>\n",
       "      <td>het</td>\n",
       "    </tr>\n",
       "    <tr>\n",
       "      <th>279</th>\n",
       "      <td>2021-10-09-0633-fit-result-variables_ept_het-p...</td>\n",
       "      <td>5</td>\n",
       "      <td>broken</td>\n",
       "      <td>0.615480</td>\n",
       "      <td>25439.443512</td>\n",
       "      <td>2193.863202</td>\n",
       "      <td>-2.535952</td>\n",
       "      <td>1.244761</td>\n",
       "      <td>-3.632791</td>\n",
       "      <td>0.141626</td>\n",
       "      <td>...</td>\n",
       "      <td>10</td>\n",
       "      <td>9</td>\n",
       "      <td>633</td>\n",
       "      <td>peak</td>\n",
       "      <td>best</td>\n",
       "      <td>l2</td>\n",
       "      <td>5min</td>\n",
       "      <td>NaN</td>\n",
       "      <td>ept</td>\n",
       "      <td>het</td>\n",
       "    </tr>\n",
       "    <tr>\n",
       "      <th>280</th>\n",
       "      <td>2021-10-09-0633-fit-result-variables_ept-peak-...</td>\n",
       "      <td>1</td>\n",
       "      <td>broken</td>\n",
       "      <td>0.823277</td>\n",
       "      <td>30213.317060</td>\n",
       "      <td>2167.725107</td>\n",
       "      <td>-1.873868</td>\n",
       "      <td>0.883067</td>\n",
       "      <td>-3.526990</td>\n",
       "      <td>0.137852</td>\n",
       "      <td>...</td>\n",
       "      <td>10</td>\n",
       "      <td>9</td>\n",
       "      <td>633</td>\n",
       "      <td>peak</td>\n",
       "      <td>best</td>\n",
       "      <td>l2</td>\n",
       "      <td>1min</td>\n",
       "      <td>NaN</td>\n",
       "      <td>ept</td>\n",
       "      <td>NaN</td>\n",
       "    </tr>\n",
       "    <tr>\n",
       "      <th>281</th>\n",
       "      <td>2021-10-09-0633-fit-result-variables_ept-peak-...</td>\n",
       "      <td>2</td>\n",
       "      <td>broken</td>\n",
       "      <td>0.731031</td>\n",
       "      <td>28740.237104</td>\n",
       "      <td>1882.519735</td>\n",
       "      <td>-2.109298</td>\n",
       "      <td>0.432231</td>\n",
       "      <td>-3.599145</td>\n",
       "      <td>0.116598</td>\n",
       "      <td>...</td>\n",
       "      <td>10</td>\n",
       "      <td>9</td>\n",
       "      <td>633</td>\n",
       "      <td>peak</td>\n",
       "      <td>best</td>\n",
       "      <td>l2</td>\n",
       "      <td>2min</td>\n",
       "      <td>NaN</td>\n",
       "      <td>ept</td>\n",
       "      <td>NaN</td>\n",
       "    </tr>\n",
       "    <tr>\n",
       "      <th>282</th>\n",
       "      <td>2021-10-09-0633-fit-result-variables_ept-peak-...</td>\n",
       "      <td>5</td>\n",
       "      <td>broken</td>\n",
       "      <td>0.647722</td>\n",
       "      <td>25401.876193</td>\n",
       "      <td>2254.801863</td>\n",
       "      <td>-2.539769</td>\n",
       "      <td>1.250661</td>\n",
       "      <td>-3.627970</td>\n",
       "      <td>0.145497</td>\n",
       "      <td>...</td>\n",
       "      <td>10</td>\n",
       "      <td>9</td>\n",
       "      <td>633</td>\n",
       "      <td>peak</td>\n",
       "      <td>best</td>\n",
       "      <td>l2</td>\n",
       "      <td>5min</td>\n",
       "      <td>NaN</td>\n",
       "      <td>ept</td>\n",
       "      <td>NaN</td>\n",
       "    </tr>\n",
       "  </tbody>\n",
       "</table>\n",
       "<p>283 rows × 26 columns</p>\n",
       "</div>"
      ],
      "text/plain": [
       "                                           Source.Name  averaging  \\\n",
       "0    2020-11-17-0932-fit-result-variables_ept_het-p...          2   \n",
       "1    2020-11-17-0932-fit-result-variables_ept_het-p...          5   \n",
       "2    2020-11-17-0932-fit-result-variables_ept-peak-...          1   \n",
       "3    2020-11-17-0932-fit-result-variables_ept-peak-...          2   \n",
       "4    2020-11-17-0932-fit-result-variables_ept-peak-...          5   \n",
       "..                                                 ...        ...   \n",
       "278  2021-10-09-0633-fit-result-variables_ept_het-p...          2   \n",
       "279  2021-10-09-0633-fit-result-variables_ept_het-p...          5   \n",
       "280  2021-10-09-0633-fit-result-variables_ept-peak-...          1   \n",
       "281  2021-10-09-0633-fit-result-variables_ept-peak-...          2   \n",
       "282  2021-10-09-0633-fit-result-variables_ept-peak-...          5   \n",
       "\n",
       "    final_fit_type  reduced_chi_sq            c1       c1_err    gamma1  \\\n",
       "0           broken        0.120527    799.344912    70.692297 -5.126234   \n",
       "1       broken_cut        0.235300    612.095317    94.108332 -6.493738   \n",
       "2           single        0.888863      0.072563     0.067506 -4.121725   \n",
       "3           broken        0.120527    799.346444    70.692150 -5.126262   \n",
       "4           broken        0.234333    593.961596    56.486671 -6.088854   \n",
       "..             ...             ...           ...          ...       ...   \n",
       "278         broken        0.712649  28736.545236  1854.723289 -2.106566   \n",
       "279         broken        0.615480  25439.443512  2193.863202 -2.535952   \n",
       "280         broken        0.823277  30213.317060  2167.725107 -1.873868   \n",
       "281         broken        0.731031  28740.237104  1882.519735 -2.109298   \n",
       "282         broken        0.647722  25401.876193  2254.801863 -2.539769   \n",
       "\n",
       "     gamma1_err    gamma2  gamma2_err  ...  month  day  time  fit_to  \\\n",
       "0      1.108236 -2.303989    1.345064  ...     11   17   932    peak   \n",
       "1      8.515233 -2.411906   34.511053  ...     11   17   932    peak   \n",
       "2      0.312002       NaN         NaN  ...     11   17   932    peak   \n",
       "3      1.108306 -2.303987    1.345100  ...     11   17   932    peak   \n",
       "4      5.056150 -0.016740    8.992800  ...     11   17   932    peak   \n",
       "..          ...       ...         ...  ...    ...  ...   ...     ...   \n",
       "278    0.424509 -3.602886    0.114122  ...     10    9   633    peak   \n",
       "279    1.244761 -3.632791    0.141626  ...     10    9   633    peak   \n",
       "280    0.883067 -3.526990    0.137852  ...     10    9   633    peak   \n",
       "281    0.432231 -3.599145    0.116598  ...     10    9   633    peak   \n",
       "282    1.250661 -3.627970    0.145497  ...     10    9   633    peak   \n",
       "\n",
       "     fit_type  data  aver  step  ept  het  \n",
       "0        best    l2  2min   NaN  ept  het  \n",
       "1        best    l2  5min   NaN  ept  het  \n",
       "2        best    l2  1min   NaN  ept  NaN  \n",
       "3        best    l2  2min   NaN  ept  NaN  \n",
       "4        best    l2  5min   NaN  ept  NaN  \n",
       "..        ...   ...   ...   ...  ...  ...  \n",
       "278      best    l2  2min   NaN  ept  het  \n",
       "279      best    l2  5min   NaN  ept  het  \n",
       "280      best    l2  1min   NaN  ept  NaN  \n",
       "281      best    l2  2min   NaN  ept  NaN  \n",
       "282      best    l2  5min   NaN  ept  NaN  \n",
       "\n",
       "[283 rows x 26 columns]"
      ]
     },
     "execution_count": 4,
     "metadata": {},
     "output_type": "execute_result"
    }
   ],
   "source": [
    "make_fit"
   ]
  },
  {
   "cell_type": "code",
   "execution_count": 5,
   "id": "f9c3fed8",
   "metadata": {},
   "outputs": [],
   "source": [
    "data = pd.concat([fit_run, make_fit], axis=1)"
   ]
  },
  {
   "cell_type": "code",
   "execution_count": 6,
   "id": "75ce0e76",
   "metadata": {},
   "outputs": [],
   "source": [
    "#data['type_of_fit'].value_counts()\n",
    "\n",
    "#data.where((data['gamma1'] >0), np.nan)\n",
    "data.query('alpha < 0', inplace = True)"
   ]
  },
  {
   "cell_type": "code",
   "execution_count": 7,
   "id": "d9d257a1",
   "metadata": {},
   "outputs": [
    {
     "data": {
      "text/plain": [
       "98     -10.098265\n",
       "265   -220.383612\n",
       "Name: alpha, dtype: float64"
      ]
     },
     "execution_count": 7,
     "metadata": {},
     "output_type": "execute_result"
    }
   ],
   "source": [
    "data['alpha']"
   ]
  },
  {
   "cell_type": "code",
   "execution_count": 8,
   "id": "c04d4cb3",
   "metadata": {
    "scrolled": false
   },
   "outputs": [
    {
     "data": {
      "text/html": [
       "<div>\n",
       "<style scoped>\n",
       "    .dataframe tbody tr th:only-of-type {\n",
       "        vertical-align: middle;\n",
       "    }\n",
       "\n",
       "    .dataframe tbody tr th {\n",
       "        vertical-align: top;\n",
       "    }\n",
       "\n",
       "    .dataframe thead th {\n",
       "        text-align: right;\n",
       "    }\n",
       "</style>\n",
       "<table border=\"1\" class=\"dataframe\">\n",
       "  <thead>\n",
       "    <tr style=\"text-align: right;\">\n",
       "      <th></th>\n",
       "      <th>Source.Name</th>\n",
       "      <th>Column1</th>\n",
       "      <th>date</th>\n",
       "      <th>averaging_min</th>\n",
       "      <th>direction</th>\n",
       "      <th>data_type</th>\n",
       "      <th>min_e_mev</th>\n",
       "      <th>max_e_mev</th>\n",
       "      <th>distance_au</th>\n",
       "      <th>STEP</th>\n",
       "      <th>...</th>\n",
       "      <th>month</th>\n",
       "      <th>day</th>\n",
       "      <th>time</th>\n",
       "      <th>fit_to</th>\n",
       "      <th>fit_type</th>\n",
       "      <th>data</th>\n",
       "      <th>aver</th>\n",
       "      <th>step</th>\n",
       "      <th>ept</th>\n",
       "      <th>het</th>\n",
       "    </tr>\n",
       "  </thead>\n",
       "  <tbody>\n",
       "    <tr>\n",
       "      <th>98</th>\n",
       "      <td>2021-05-07-1852-all-fit-variables_step-peak-be...</td>\n",
       "      <td>0</td>\n",
       "      <td>2021-05-07</td>\n",
       "      <td>2min</td>\n",
       "      <td>sun</td>\n",
       "      <td>l2</td>\n",
       "      <td>0.004323</td>\n",
       "      <td>3.793309</td>\n",
       "      <td>0.92</td>\n",
       "      <td>True</td>\n",
       "      <td>...</td>\n",
       "      <td>5</td>\n",
       "      <td>7</td>\n",
       "      <td>1852</td>\n",
       "      <td>peak</td>\n",
       "      <td>best</td>\n",
       "      <td>l2</td>\n",
       "      <td>2min</td>\n",
       "      <td>step</td>\n",
       "      <td>NaN</td>\n",
       "      <td>NaN</td>\n",
       "    </tr>\n",
       "    <tr>\n",
       "      <th>265</th>\n",
       "      <td>2021-09-28-0623-all-fit-variables_ept-peak-bes...</td>\n",
       "      <td>0</td>\n",
       "      <td>2021-09-28</td>\n",
       "      <td>1min</td>\n",
       "      <td>sun</td>\n",
       "      <td>l2</td>\n",
       "      <td>0.004575</td>\n",
       "      <td>1.590048</td>\n",
       "      <td>0.62</td>\n",
       "      <td>True</td>\n",
       "      <td>...</td>\n",
       "      <td>9</td>\n",
       "      <td>28</td>\n",
       "      <td>623</td>\n",
       "      <td>peak</td>\n",
       "      <td>best</td>\n",
       "      <td>l2</td>\n",
       "      <td>1min</td>\n",
       "      <td>NaN</td>\n",
       "      <td>ept</td>\n",
       "      <td>NaN</td>\n",
       "    </tr>\n",
       "  </tbody>\n",
       "</table>\n",
       "<p>2 rows × 57 columns</p>\n",
       "</div>"
      ],
      "text/plain": [
       "                                           Source.Name  Column1       date  \\\n",
       "98   2021-05-07-1852-all-fit-variables_step-peak-be...        0 2021-05-07   \n",
       "265  2021-09-28-0623-all-fit-variables_ept-peak-bes...        0 2021-09-28   \n",
       "\n",
       "    averaging_min direction data_type  min_e_mev  max_e_mev  distance_au  \\\n",
       "98           2min       sun        l2   0.004323   3.793309         0.92   \n",
       "265          1min       sun        l2   0.004575   1.590048         0.62   \n",
       "\n",
       "     STEP  ...  month  day  time  fit_to  fit_type  data  aver  step  ept  het  \n",
       "98   True  ...      5    7  1852    peak      best    l2  2min  step  NaN  NaN  \n",
       "265  True  ...      9   28   623    peak      best    l2  1min   NaN  ept  NaN  \n",
       "\n",
       "[2 rows x 57 columns]"
      ]
     },
     "execution_count": 8,
     "metadata": {},
     "output_type": "execute_result"
    }
   ],
   "source": [
    "data"
   ]
  },
  {
   "cell_type": "code",
   "execution_count": 9,
   "id": "17e0929e",
   "metadata": {},
   "outputs": [],
   "source": [
    "data = pd.concat([fit_run, make_fit], axis=1)\n",
    "data.query('gamma1 > 0', inplace = True)"
   ]
  },
  {
   "cell_type": "code",
   "execution_count": 10,
   "id": "ba5d4ce7",
   "metadata": {
    "scrolled": false
   },
   "outputs": [
    {
     "data": {
      "text/html": [
       "<div>\n",
       "<style scoped>\n",
       "    .dataframe tbody tr th:only-of-type {\n",
       "        vertical-align: middle;\n",
       "    }\n",
       "\n",
       "    .dataframe tbody tr th {\n",
       "        vertical-align: top;\n",
       "    }\n",
       "\n",
       "    .dataframe thead th {\n",
       "        text-align: right;\n",
       "    }\n",
       "</style>\n",
       "<table border=\"1\" class=\"dataframe\">\n",
       "  <thead>\n",
       "    <tr style=\"text-align: right;\">\n",
       "      <th></th>\n",
       "      <th>Source.Name</th>\n",
       "      <th>Column1</th>\n",
       "      <th>date</th>\n",
       "      <th>averaging_min</th>\n",
       "      <th>direction</th>\n",
       "      <th>data_type</th>\n",
       "      <th>min_e_mev</th>\n",
       "      <th>max_e_mev</th>\n",
       "      <th>distance_au</th>\n",
       "      <th>STEP</th>\n",
       "      <th>...</th>\n",
       "      <th>month</th>\n",
       "      <th>day</th>\n",
       "      <th>time</th>\n",
       "      <th>fit_to</th>\n",
       "      <th>fit_type</th>\n",
       "      <th>data</th>\n",
       "      <th>aver</th>\n",
       "      <th>step</th>\n",
       "      <th>ept</th>\n",
       "      <th>het</th>\n",
       "    </tr>\n",
       "  </thead>\n",
       "  <tbody>\n",
       "  </tbody>\n",
       "</table>\n",
       "<p>0 rows × 57 columns</p>\n",
       "</div>"
      ],
      "text/plain": [
       "Empty DataFrame\n",
       "Columns: [Source.Name, Column1, date, averaging_min, direction, data_type, min_e_mev, max_e_mev, distance_au, STEP, EPT, HET, sigma, relative_error, fraction_of_nan, leave_first_het_channel_out, shift_step_data, type_of_fit, fit_to, window, which_fit, min_energy, max_energy, gamma1_guess, gamma2_guess, c1_guess, alpha_guess, break_guess_mev, cutoff_point_guess_mev, use_random, iterations, Source.Name, averaging, final_fit_type, reduced_chi_sq, c1, c1_err, gamma1, gamma1_err, gamma2, gamma2_err, break_point_mev, break_point_err_mev, exp_cutoff_point_mev, cutoff_err_mev, alpha, year, month, day, time, fit_to, fit_type, data, aver, step, ept, het]\n",
       "Index: []\n",
       "\n",
       "[0 rows x 57 columns]"
      ]
     },
     "execution_count": 10,
     "metadata": {},
     "output_type": "execute_result"
    }
   ],
   "source": [
    "data"
   ]
  },
  {
   "cell_type": "code",
   "execution_count": 11,
   "id": "6d5bd875",
   "metadata": {},
   "outputs": [
    {
     "name": "stdout",
     "output_type": "stream",
     "text": [
      "Series([], Name: gamma2, dtype: bool)\n"
     ]
    }
   ],
   "source": [
    "check_nan = data['gamma2'].isnull()\n",
    "  \n",
    "# printing the result\n",
    "print(check_nan)"
   ]
  },
  {
   "cell_type": "code",
   "execution_count": 12,
   "id": "e672d66b",
   "metadata": {},
   "outputs": [
    {
     "data": {
      "text/plain": [
       "Index(['Source.Name', 'Column1', 'date', 'averaging_min', 'direction',\n",
       "       'data_type', 'min_e_mev', 'max_e_mev', 'distance_au', 'STEP', 'EPT',\n",
       "       'HET', 'sigma', 'relative_error', 'fraction_of_nan',\n",
       "       'leave_first_het_channel_out', 'shift_step_data', 'type_of_fit',\n",
       "       'fit_to', 'window', 'which_fit', 'min_energy', 'max_energy',\n",
       "       'gamma1_guess', 'gamma2_guess', 'c1_guess', 'alpha_guess',\n",
       "       'break_guess_mev', 'cutoff_point_guess_mev', 'use_random', 'iterations',\n",
       "       'Source.Name', 'averaging', 'final_fit_type', 'reduced_chi_sq', 'c1',\n",
       "       'c1_err', 'gamma1', 'gamma1_err', 'gamma2', 'gamma2_err',\n",
       "       'break_point_mev', 'break_point_err_mev', 'exp_cutoff_point_mev',\n",
       "       'cutoff_err_mev', 'alpha', 'year', 'month', 'day', 'time', 'fit_to',\n",
       "       'fit_type', 'data', 'aver', 'step', 'ept', 'het'],\n",
       "      dtype='object')"
      ]
     },
     "execution_count": 12,
     "metadata": {},
     "output_type": "execute_result"
    }
   ],
   "source": [
    "data.columns"
   ]
  },
  {
   "cell_type": "code",
   "execution_count": 13,
   "id": "0caf13c3",
   "metadata": {},
   "outputs": [],
   "source": [
    "data = pd.concat([fit_run, make_fit], axis=1)\n",
    "df_zero_err = data.where((data['break_point_err_mev'] == 0), np.nan)"
   ]
  },
  {
   "cell_type": "code",
   "execution_count": 15,
   "id": "43b303b4",
   "metadata": {},
   "outputs": [
    {
     "data": {
      "image/png": "[encoded data removed]",
      "text/plain": [
       "<Figure size 936x720 with 1 Axes>"
      ]
     },
     "metadata": {
      "needs_background": "light"
     },
     "output_type": "display_data"
    }
   ],
   "source": [
    "f, ax = plt.subplots(figsize=(13,10)) \n",
    "ax.errorbar(x=data['break_point_mev'], y=data['gamma1'], yerr=data['gamma1_err'], xerr=data['break_point_err_mev'], color='red', fmt='o', ecolor='red', zorder=0, alpha=0.3)#, label='Flux average')\n",
    "\n",
    "ax.errorbar(df_zero_err.break_point_mev, df_zero_err.gamma1,yerr=data['gamma1_err'], xerr=data['break_point_err_mev'], fmt='o', markersize=10, c='gray', label='zero err', alpha=0.3)\n",
    "#ax.plot(df_no_sig.Primary_energy, df_no_sig.Bg_subtracted_average, 'o', c='blue', markersize=11, label='excluded (sigma)')\n",
    "#ax.plot(df_rel_err.Primary_energy, df_rel_err.Bg_subtracted_average, 'o', c='orange', markersize=6, label='excluded (rel error)')\n",
    "\n",
    "\n",
    "ax.set_xlabel('Break energy [MeV]', size=20)\n",
    "ax.set_ylabel('$\\gamma_1$', size=20)\n",
    "plt.tick_params(axis='x', which='minor', labelsize=16)\n",
    "ax.xaxis.set_minor_formatter(FormatStrFormatter(\"%.2f\"))\n",
    "    #plt.tick_params(axis='y', which='minor')\n",
    "    #ax.yaxis.set_minor_formatter(FormatStrFormatter(\"%.0f\"))\n",
    "plt.legend(prop={'size': 18})\n",
    "plt.xticks(size=16)\n",
    "plt.yticks(size=16)\n",
    "#plt.grid()\n",
    "plt.title('')\n",
    "ax.set_ylim(-20,0)\n",
    "\n",
    "plt.show()\n",
    "\n",
    "#plt.scatter(data['break_point_mev'], data['gamma1'])"
   ]
  },
  {
   "cell_type": "code",
   "execution_count": 16,
   "id": "cd9b6c51",
   "metadata": {},
   "outputs": [],
   "source": [
    "#data.query('Senior_Management == True \n",
    " #          and Gender ==\"Male\" and Team ==\"Marketing\" \n",
    "  #          and First_Name ==\"Johnny\"', inplace = True)"
   ]
  },
  {
   "cell_type": "code",
   "execution_count": 17,
   "id": "5fe0e9b8",
   "metadata": {},
   "outputs": [],
   "source": [
    "data.query('type_of_fit == \"step_ept_het\" and averaging == 5', inplace = True)"
   ]
  },
  {
   "cell_type": "code",
   "execution_count": 18,
   "id": "9ade2d41",
   "metadata": {},
   "outputs": [],
   "source": [
    "df_zero_err = data.where((data['break_point_err_mev'] == 0), np.nan)"
   ]
  },
  {
   "cell_type": "code",
   "execution_count": 19,
   "id": "3e3e87b5",
   "metadata": {
    "scrolled": true
   },
   "outputs": [
    {
     "data": {
      "text/html": [
       "<div>\n",
       "<style scoped>\n",
       "    .dataframe tbody tr th:only-of-type {\n",
       "        vertical-align: middle;\n",
       "    }\n",
       "\n",
       "    .dataframe tbody tr th {\n",
       "        vertical-align: top;\n",
       "    }\n",
       "\n",
       "    .dataframe thead th {\n",
       "        text-align: right;\n",
       "    }\n",
       "</style>\n",
       "<table border=\"1\" class=\"dataframe\">\n",
       "  <thead>\n",
       "    <tr style=\"text-align: right;\">\n",
       "      <th></th>\n",
       "      <th>Source.Name</th>\n",
       "      <th>Column1</th>\n",
       "      <th>date</th>\n",
       "      <th>averaging_min</th>\n",
       "      <th>direction</th>\n",
       "      <th>data_type</th>\n",
       "      <th>min_e_mev</th>\n",
       "      <th>max_e_mev</th>\n",
       "      <th>distance_au</th>\n",
       "      <th>STEP</th>\n",
       "      <th>...</th>\n",
       "      <th>month</th>\n",
       "      <th>day</th>\n",
       "      <th>time</th>\n",
       "      <th>fit_to</th>\n",
       "      <th>fit_type</th>\n",
       "      <th>data</th>\n",
       "      <th>aver</th>\n",
       "      <th>step</th>\n",
       "      <th>ept</th>\n",
       "      <th>het</th>\n",
       "    </tr>\n",
       "  </thead>\n",
       "  <tbody>\n",
       "    <tr>\n",
       "      <th>7</th>\n",
       "      <td>2020-11-17-0932-all-fit-variables_step_ept_het...</td>\n",
       "      <td>0</td>\n",
       "      <td>2020-11-17</td>\n",
       "      <td>5min</td>\n",
       "      <td>sun</td>\n",
       "      <td>l2</td>\n",
       "      <td>0.004575</td>\n",
       "      <td>1.590048</td>\n",
       "      <td>0.93</td>\n",
       "      <td>True</td>\n",
       "      <td>...</td>\n",
       "      <td>11</td>\n",
       "      <td>17</td>\n",
       "      <td>932</td>\n",
       "      <td>peak</td>\n",
       "      <td>best</td>\n",
       "      <td>l2</td>\n",
       "      <td>5min</td>\n",
       "      <td>step</td>\n",
       "      <td>ept</td>\n",
       "      <td>het</td>\n",
       "    </tr>\n",
       "    <tr>\n",
       "      <th>17</th>\n",
       "      <td>2020-11-17-1826-all-fit-variables_step_ept_het...</td>\n",
       "      <td>0</td>\n",
       "      <td>2020-11-17</td>\n",
       "      <td>5min</td>\n",
       "      <td>sun</td>\n",
       "      <td>l2</td>\n",
       "      <td>0.004575</td>\n",
       "      <td>0.191333</td>\n",
       "      <td>0.93</td>\n",
       "      <td>True</td>\n",
       "      <td>...</td>\n",
       "      <td>11</td>\n",
       "      <td>17</td>\n",
       "      <td>1826</td>\n",
       "      <td>peak</td>\n",
       "      <td>best</td>\n",
       "      <td>l2</td>\n",
       "      <td>5min</td>\n",
       "      <td>step</td>\n",
       "      <td>ept</td>\n",
       "      <td>het</td>\n",
       "    </tr>\n",
       "    <tr>\n",
       "      <th>28</th>\n",
       "      <td>2020-11-18-1314-all-fit-variables_step_ept_het...</td>\n",
       "      <td>0</td>\n",
       "      <td>2020-11-18</td>\n",
       "      <td>5min</td>\n",
       "      <td>sun</td>\n",
       "      <td>l2</td>\n",
       "      <td>0.004575</td>\n",
       "      <td>0.115216</td>\n",
       "      <td>0.93</td>\n",
       "      <td>True</td>\n",
       "      <td>...</td>\n",
       "      <td>11</td>\n",
       "      <td>18</td>\n",
       "      <td>1314</td>\n",
       "      <td>peak</td>\n",
       "      <td>best</td>\n",
       "      <td>l2</td>\n",
       "      <td>5min</td>\n",
       "      <td>step</td>\n",
       "      <td>ept</td>\n",
       "      <td>het</td>\n",
       "    </tr>\n",
       "    <tr>\n",
       "      <th>78</th>\n",
       "      <td>2021-04-17-1617-all-fit-variables_step_ept_het...</td>\n",
       "      <td>0</td>\n",
       "      <td>2021-04-17</td>\n",
       "      <td>5min</td>\n",
       "      <td>sun</td>\n",
       "      <td>l2</td>\n",
       "      <td>0.010028</td>\n",
       "      <td>1.590048</td>\n",
       "      <td>0.84</td>\n",
       "      <td>True</td>\n",
       "      <td>...</td>\n",
       "      <td>4</td>\n",
       "      <td>17</td>\n",
       "      <td>1617</td>\n",
       "      <td>peak</td>\n",
       "      <td>best</td>\n",
       "      <td>l2</td>\n",
       "      <td>5min</td>\n",
       "      <td>step</td>\n",
       "      <td>ept</td>\n",
       "      <td>het</td>\n",
       "    </tr>\n",
       "    <tr>\n",
       "      <th>93</th>\n",
       "      <td>2021-05-07-1852-all-fit-variables_step_ept_het...</td>\n",
       "      <td>0</td>\n",
       "      <td>2021-05-07</td>\n",
       "      <td>5min</td>\n",
       "      <td>sun</td>\n",
       "      <td>l2</td>\n",
       "      <td>0.004323</td>\n",
       "      <td>3.793309</td>\n",
       "      <td>0.92</td>\n",
       "      <td>True</td>\n",
       "      <td>...</td>\n",
       "      <td>5</td>\n",
       "      <td>7</td>\n",
       "      <td>1852</td>\n",
       "      <td>peak</td>\n",
       "      <td>best</td>\n",
       "      <td>l2</td>\n",
       "      <td>5min</td>\n",
       "      <td>step</td>\n",
       "      <td>ept</td>\n",
       "      <td>het</td>\n",
       "    </tr>\n",
       "    <tr>\n",
       "      <th>108</th>\n",
       "      <td>2021-05-09-1353-all-fit-variables_step_ept_het...</td>\n",
       "      <td>0</td>\n",
       "      <td>2021-05-09</td>\n",
       "      <td>5min</td>\n",
       "      <td>sun</td>\n",
       "      <td>l2</td>\n",
       "      <td>0.004323</td>\n",
       "      <td>1.590048</td>\n",
       "      <td>0.92</td>\n",
       "      <td>True</td>\n",
       "      <td>...</td>\n",
       "      <td>5</td>\n",
       "      <td>9</td>\n",
       "      <td>1852</td>\n",
       "      <td>peak</td>\n",
       "      <td>best</td>\n",
       "      <td>l2</td>\n",
       "      <td>5min</td>\n",
       "      <td>step</td>\n",
       "      <td>ept</td>\n",
       "      <td>het</td>\n",
       "    </tr>\n",
       "    <tr>\n",
       "      <th>144</th>\n",
       "      <td>2021-05-22-0648-all-fit-variables_step_ept_het...</td>\n",
       "      <td>0</td>\n",
       "      <td>2021-05-22</td>\n",
       "      <td>5min</td>\n",
       "      <td>sun</td>\n",
       "      <td>l2</td>\n",
       "      <td>0.004323</td>\n",
       "      <td>1.590048</td>\n",
       "      <td>0.95</td>\n",
       "      <td>True</td>\n",
       "      <td>...</td>\n",
       "      <td>5</td>\n",
       "      <td>22</td>\n",
       "      <td>648</td>\n",
       "      <td>peak</td>\n",
       "      <td>best</td>\n",
       "      <td>l2</td>\n",
       "      <td>5min</td>\n",
       "      <td>step</td>\n",
       "      <td>ept</td>\n",
       "      <td>het</td>\n",
       "    </tr>\n",
       "    <tr>\n",
       "      <th>168</th>\n",
       "      <td>2021-05-22-2131-all-fit-variables_step_ept_het...</td>\n",
       "      <td>0</td>\n",
       "      <td>2021-05-22</td>\n",
       "      <td>5min</td>\n",
       "      <td>sun</td>\n",
       "      <td>l2</td>\n",
       "      <td>0.011957</td>\n",
       "      <td>1.590048</td>\n",
       "      <td>0.95</td>\n",
       "      <td>True</td>\n",
       "      <td>...</td>\n",
       "      <td>5</td>\n",
       "      <td>22</td>\n",
       "      <td>2131</td>\n",
       "      <td>peak</td>\n",
       "      <td>best</td>\n",
       "      <td>l2</td>\n",
       "      <td>5min</td>\n",
       "      <td>step</td>\n",
       "      <td>ept</td>\n",
       "      <td>het</td>\n",
       "    </tr>\n",
       "    <tr>\n",
       "      <th>183</th>\n",
       "      <td>2021-05-23-0434-all-fit-variables_step_ept_het...</td>\n",
       "      <td>0</td>\n",
       "      <td>2021-05-23</td>\n",
       "      <td>5min</td>\n",
       "      <td>sun</td>\n",
       "      <td>l2</td>\n",
       "      <td>0.004575</td>\n",
       "      <td>1.590048</td>\n",
       "      <td>0.95</td>\n",
       "      <td>True</td>\n",
       "      <td>...</td>\n",
       "      <td>5</td>\n",
       "      <td>23</td>\n",
       "      <td>434</td>\n",
       "      <td>peak</td>\n",
       "      <td>best</td>\n",
       "      <td>l2</td>\n",
       "      <td>5min</td>\n",
       "      <td>step</td>\n",
       "      <td>ept</td>\n",
       "      <td>het</td>\n",
       "    </tr>\n",
       "    <tr>\n",
       "      <th>204</th>\n",
       "      <td>2021-05-23-1103-all-fit-variables_step_ept_het...</td>\n",
       "      <td>0</td>\n",
       "      <td>2021-05-23</td>\n",
       "      <td>5min</td>\n",
       "      <td>sun</td>\n",
       "      <td>l2</td>\n",
       "      <td>0.014157</td>\n",
       "      <td>1.590048</td>\n",
       "      <td>0.95</td>\n",
       "      <td>True</td>\n",
       "      <td>...</td>\n",
       "      <td>5</td>\n",
       "      <td>23</td>\n",
       "      <td>1103</td>\n",
       "      <td>peak</td>\n",
       "      <td>best</td>\n",
       "      <td>l2</td>\n",
       "      <td>5min</td>\n",
       "      <td>step</td>\n",
       "      <td>ept</td>\n",
       "      <td>het</td>\n",
       "    </tr>\n",
       "    <tr>\n",
       "      <th>228</th>\n",
       "      <td>2021-08-26-1807-all-fit-variables_step_ept_het...</td>\n",
       "      <td>0</td>\n",
       "      <td>2021-08-26</td>\n",
       "      <td>5min</td>\n",
       "      <td>sun</td>\n",
       "      <td>l2</td>\n",
       "      <td>0.004323</td>\n",
       "      <td>1.590048</td>\n",
       "      <td>0.63</td>\n",
       "      <td>True</td>\n",
       "      <td>...</td>\n",
       "      <td>8</td>\n",
       "      <td>26</td>\n",
       "      <td>1807</td>\n",
       "      <td>peak</td>\n",
       "      <td>best</td>\n",
       "      <td>l2</td>\n",
       "      <td>5min</td>\n",
       "      <td>step</td>\n",
       "      <td>ept</td>\n",
       "      <td>het</td>\n",
       "    </tr>\n",
       "    <tr>\n",
       "      <th>243</th>\n",
       "      <td>2021-08-26-2318-all-fit-variables_step_ept_het...</td>\n",
       "      <td>0</td>\n",
       "      <td>2021-08-26</td>\n",
       "      <td>5min</td>\n",
       "      <td>sun</td>\n",
       "      <td>l2</td>\n",
       "      <td>0.019106</td>\n",
       "      <td>1.590048</td>\n",
       "      <td>0.63</td>\n",
       "      <td>True</td>\n",
       "      <td>...</td>\n",
       "      <td>8</td>\n",
       "      <td>26</td>\n",
       "      <td>2318</td>\n",
       "      <td>peak</td>\n",
       "      <td>best</td>\n",
       "      <td>l2</td>\n",
       "      <td>5min</td>\n",
       "      <td>step</td>\n",
       "      <td>ept</td>\n",
       "      <td>het</td>\n",
       "    </tr>\n",
       "    <tr>\n",
       "      <th>258</th>\n",
       "      <td>2021-08-28-0501-all-fit-variables_step_ept_het...</td>\n",
       "      <td>0</td>\n",
       "      <td>2021-08-28</td>\n",
       "      <td>5min</td>\n",
       "      <td>sun</td>\n",
       "      <td>l2</td>\n",
       "      <td>0.010028</td>\n",
       "      <td>1.590048</td>\n",
       "      <td>0.62</td>\n",
       "      <td>True</td>\n",
       "      <td>...</td>\n",
       "      <td>8</td>\n",
       "      <td>28</td>\n",
       "      <td>501</td>\n",
       "      <td>peak</td>\n",
       "      <td>best</td>\n",
       "      <td>l2</td>\n",
       "      <td>5min</td>\n",
       "      <td>step</td>\n",
       "      <td>ept</td>\n",
       "      <td>het</td>\n",
       "    </tr>\n",
       "    <tr>\n",
       "      <th>270</th>\n",
       "      <td>2021-09-28-0623-all-fit-variables_step_ept_het...</td>\n",
       "      <td>0</td>\n",
       "      <td>2021-09-28</td>\n",
       "      <td>5min</td>\n",
       "      <td>sun</td>\n",
       "      <td>l2</td>\n",
       "      <td>0.005837</td>\n",
       "      <td>1.590048</td>\n",
       "      <td>0.62</td>\n",
       "      <td>True</td>\n",
       "      <td>...</td>\n",
       "      <td>9</td>\n",
       "      <td>28</td>\n",
       "      <td>623</td>\n",
       "      <td>peak</td>\n",
       "      <td>best</td>\n",
       "      <td>l2</td>\n",
       "      <td>5min</td>\n",
       "      <td>step</td>\n",
       "      <td>ept</td>\n",
       "      <td>het</td>\n",
       "    </tr>\n",
       "  </tbody>\n",
       "</table>\n",
       "<p>14 rows × 57 columns</p>\n",
       "</div>"
      ],
      "text/plain": [
       "                                           Source.Name  Column1       date  \\\n",
       "7    2020-11-17-0932-all-fit-variables_step_ept_het...        0 2020-11-17   \n",
       "17   2020-11-17-1826-all-fit-variables_step_ept_het...        0 2020-11-17   \n",
       "28   2020-11-18-1314-all-fit-variables_step_ept_het...        0 2020-11-18   \n",
       "78   2021-04-17-1617-all-fit-variables_step_ept_het...        0 2021-04-17   \n",
       "93   2021-05-07-1852-all-fit-variables_step_ept_het...        0 2021-05-07   \n",
       "108  2021-05-09-1353-all-fit-variables_step_ept_het...        0 2021-05-09   \n",
       "144  2021-05-22-0648-all-fit-variables_step_ept_het...        0 2021-05-22   \n",
       "168  2021-05-22-2131-all-fit-variables_step_ept_het...        0 2021-05-22   \n",
       "183  2021-05-23-0434-all-fit-variables_step_ept_het...        0 2021-05-23   \n",
       "204  2021-05-23-1103-all-fit-variables_step_ept_het...        0 2021-05-23   \n",
       "228  2021-08-26-1807-all-fit-variables_step_ept_het...        0 2021-08-26   \n",
       "243  2021-08-26-2318-all-fit-variables_step_ept_het...        0 2021-08-26   \n",
       "258  2021-08-28-0501-all-fit-variables_step_ept_het...        0 2021-08-28   \n",
       "270  2021-09-28-0623-all-fit-variables_step_ept_het...        0 2021-09-28   \n",
       "\n",
       "    averaging_min direction data_type  min_e_mev  max_e_mev  distance_au  \\\n",
       "7            5min       sun        l2   0.004575   1.590048         0.93   \n",
       "17           5min       sun        l2   0.004575   0.191333         0.93   \n",
       "28           5min       sun        l2   0.004575   0.115216         0.93   \n",
       "78           5min       sun        l2   0.010028   1.590048         0.84   \n",
       "93           5min       sun        l2   0.004323   3.793309         0.92   \n",
       "108          5min       sun        l2   0.004323   1.590048         0.92   \n",
       "144          5min       sun        l2   0.004323   1.590048         0.95   \n",
       "168          5min       sun        l2   0.011957   1.590048         0.95   \n",
       "183          5min       sun        l2   0.004575   1.590048         0.95   \n",
       "204          5min       sun        l2   0.014157   1.590048         0.95   \n",
       "228          5min       sun        l2   0.004323   1.590048         0.63   \n",
       "243          5min       sun        l2   0.019106   1.590048         0.63   \n",
       "258          5min       sun        l2   0.010028   1.590048         0.62   \n",
       "270          5min       sun        l2   0.005837   1.590048         0.62   \n",
       "\n",
       "     STEP  ...  month  day  time  fit_to  fit_type  data  aver  step  ept  het  \n",
       "7    True  ...     11   17   932    peak      best    l2  5min  step  ept  het  \n",
       "17   True  ...     11   17  1826    peak      best    l2  5min  step  ept  het  \n",
       "28   True  ...     11   18  1314    peak      best    l2  5min  step  ept  het  \n",
       "78   True  ...      4   17  1617    peak      best    l2  5min  step  ept  het  \n",
       "93   True  ...      5    7  1852    peak      best    l2  5min  step  ept  het  \n",
       "108  True  ...      5    9  1852    peak      best    l2  5min  step  ept  het  \n",
       "144  True  ...      5   22   648    peak      best    l2  5min  step  ept  het  \n",
       "168  True  ...      5   22  2131    peak      best    l2  5min  step  ept  het  \n",
       "183  True  ...      5   23   434    peak      best    l2  5min  step  ept  het  \n",
       "204  True  ...      5   23  1103    peak      best    l2  5min  step  ept  het  \n",
       "228  True  ...      8   26  1807    peak      best    l2  5min  step  ept  het  \n",
       "243  True  ...      8   26  2318    peak      best    l2  5min  step  ept  het  \n",
       "258  True  ...      8   28   501    peak      best    l2  5min  step  ept  het  \n",
       "270  True  ...      9   28   623    peak      best    l2  5min  step  ept  het  \n",
       "\n",
       "[14 rows x 57 columns]"
      ]
     },
     "execution_count": 19,
     "metadata": {},
     "output_type": "execute_result"
    }
   ],
   "source": [
    "data"
   ]
  },
  {
   "cell_type": "code",
   "execution_count": 21,
   "id": "32aae26a",
   "metadata": {},
   "outputs": [
    {
     "data": {
      "image/png": "[encoded data removed]",
      "text/plain": [
       "<Figure size 936x720 with 1 Axes>"
      ]
     },
     "metadata": {
      "needs_background": "light"
     },
     "output_type": "display_data"
    }
   ],
   "source": [
    "f, ax = plt.subplots(figsize=(13,10)) \n",
    "ax.errorbar(x=data['break_point_mev'], y=data['gamma1'], yerr=data['gamma1_err'], xerr=data['break_point_err_mev'], color='red', fmt='o', ecolor='red', zorder=0, alpha=0.5)#, label='Flux average')\n",
    "\n",
    "ax.errorbar(df_zero_err.break_point_mev, df_zero_err.gamma1,yerr=data['gamma1_err'], xerr=data['break_point_err_mev'], fmt='o', markersize=5, c='black', label='zero err', alpha=1)\n",
    "#ax.plot(df_no_sig.Primary_energy, df_no_sig.Bg_subtracted_average, 'o', c='blue', markersize=11, label='excluded (sigma)')\n",
    "#ax.plot(df_rel_err.Primary_energy, df_rel_err.Bg_subtracted_average, 'o', c='orange', markersize=6, label='excluded (rel error)')\n",
    "\n",
    "\n",
    "ax.set_xlabel('Break energy [MeV]', size=20)\n",
    "ax.set_ylabel('$\\gamma_1$', size=20)\n",
    "plt.tick_params(axis='x', which='minor', labelsize=16)\n",
    "ax.xaxis.set_minor_formatter(FormatStrFormatter(\"%.2f\"))\n",
    "    #plt.tick_params(axis='y', which='minor')\n",
    "    #ax.yaxis.set_minor_formatter(FormatStrFormatter(\"%.0f\"))\n",
    "plt.legend(prop={'size': 18})\n",
    "plt.xticks(size=16)\n",
    "plt.yticks(size=16)\n",
    "#plt.grid()\n",
    "plt.title('')\n",
    "\n",
    "ax.set_ylim(-5,0)\n",
    "\n",
    "plt.show()\n",
    "\n",
    "#plt.scatter(data['break_point_mev'], data['gamma1'])\n",
    "\n",
    "#plt.scatter(data['break_point_mev'], data['gamma1'])"
   ]
  },
  {
   "cell_type": "code",
   "execution_count": 22,
   "id": "07211faf",
   "metadata": {},
   "outputs": [],
   "source": [
    "data = pd.concat([fit_run, make_fit], axis=1)"
   ]
  },
  {
   "cell_type": "code",
   "execution_count": 25,
   "id": "24173e84",
   "metadata": {},
   "outputs": [],
   "source": [
    "data.query('final_fit_type == \"broken\" and averaging == 5', inplace = True)"
   ]
  },
  {
   "cell_type": "code",
   "execution_count": 26,
   "id": "c50f8369",
   "metadata": {},
   "outputs": [],
   "source": [
    "df_zero_err = data.where((data['break_point_err_mev'] == 0), np.nan)"
   ]
  },
  {
   "cell_type": "code",
   "execution_count": 29,
   "id": "217f6921",
   "metadata": {},
   "outputs": [
    {
     "data": {
      "image/png": "[encoded data removed]",
      "text/plain": [
       "<Figure size 936x720 with 1 Axes>"
      ]
     },
     "metadata": {
      "needs_background": "light"
     },
     "output_type": "display_data"
    }
   ],
   "source": [
    "f, ax = plt.subplots(figsize=(13,10)) \n",
    "ax.errorbar(x=data['break_point_mev'], y=data['gamma1'], yerr=data['gamma1_err'], xerr=data['break_point_err_mev'], color='red', fmt='o', ecolor='red', zorder=0, alpha=0.5)#, label='Flux average')\n",
    "\n",
    "ax.errorbar(df_zero_err.break_point_mev, df_zero_err.gamma1,yerr=data['gamma1_err'], xerr=data['break_point_err_mev'], fmt='o', markersize=5, c='black', label='zero err', alpha=1)\n",
    "#ax.plot(df_no_sig.Primary_energy, df_no_sig.Bg_subtracted_average, 'o', c='blue', markersize=11, label='excluded (sigma)')\n",
    "#ax.plot(df_rel_err.Primary_energy, df_rel_err.Bg_subtracted_average, 'o', c='orange', markersize=6, label='excluded (rel error)')\n",
    "\n",
    "\n",
    "ax.set_xlabel('Break energy [MeV]', size=20)\n",
    "ax.set_ylabel('$\\gamma_1$', size=20)\n",
    "plt.tick_params(axis='x', which='minor', labelsize=16)\n",
    "ax.xaxis.set_minor_formatter(FormatStrFormatter(\"%.2f\"))\n",
    "    #plt.tick_params(axis='y', which='minor')\n",
    "    #ax.yaxis.set_minor_formatter(FormatStrFormatter(\"%.0f\"))\n",
    "plt.legend(prop={'size': 18})\n",
    "plt.xticks(size=16)\n",
    "plt.yticks(size=16)\n",
    "#plt.grid()\n",
    "plt.title('')\n",
    "ax.set_xlim(0,0.5)\n",
    "ax.set_ylim(-5,0)\n",
    "\n",
    "plt.show()\n",
    "\n",
    "#plt.scatter(data['break_point_mev'], data['gamma1'])\n",
    "\n",
    "#plt.scatter(data['break_point_mev'], data['gamma1'])"
   ]
  },
  {
   "cell_type": "code",
   "execution_count": 34,
   "id": "6dac23d9",
   "metadata": {},
   "outputs": [
    {
     "data": {
      "image/png": "[encoded data removed]",
      "text/plain": [
       "<Figure size 936x720 with 1 Axes>"
      ]
     },
     "metadata": {
      "needs_background": "light"
     },
     "output_type": "display_data"
    }
   ],
   "source": [
    "f, ax = plt.subplots(figsize=(13,10)) \n",
    "ax.errorbar(x=data['break_point_mev'], y=data['gamma2'], yerr=data['gamma2_err'], xerr=data['break_point_err_mev'], color='red', fmt='o', ecolor='red', zorder=0, alpha=0.5)#, label='Flux average')\n",
    "\n",
    "ax.errorbar(df_zero_err.break_point_mev, df_zero_err.gamma2,yerr=data['gamma2_err'], xerr=data['break_point_err_mev'], fmt='o', markersize=5, c='black', label='zero err', alpha=1)\n",
    "#ax.plot(df_no_sig.Primary_energy, df_no_sig.Bg_subtracted_average, 'o', c='blue', markersize=11, label='excluded (sigma)')\n",
    "#ax.plot(df_rel_err.Primary_energy, df_rel_err.Bg_subtracted_average, 'o', c='orange', markersize=6, label='excluded (rel error)')\n",
    "\n",
    "\n",
    "ax.set_xlabel('Break energy [MeV]', size=20)\n",
    "ax.set_ylabel('$\\gamma_2$', size=20)\n",
    "plt.tick_params(axis='x', which='minor', labelsize=16)\n",
    "ax.xaxis.set_minor_formatter(FormatStrFormatter(\"%.2f\"))\n",
    "    #plt.tick_params(axis='y', which='minor')\n",
    "    #ax.yaxis.set_minor_formatter(FormatStrFormatter(\"%.0f\"))\n",
    "plt.legend(prop={'size': 18})\n",
    "plt.xticks(size=16)\n",
    "plt.yticks(size=16)\n",
    "#plt.grid()\n",
    "plt.title('')\n",
    "ax.set_xlim(0,0.2)\n",
    "ax.set_ylim(-10,0)\n",
    "\n",
    "plt.show()\n",
    "\n",
    "#plt.scatter(data['break_point_mev'], data['gamma1'])\n",
    "\n",
    "#plt.scatter(data['break_point_mev'], data['gamma1'])"
   ]
  },
  {
   "cell_type": "code",
   "execution_count": 35,
   "id": "329d679e",
   "metadata": {},
   "outputs": [],
   "source": [
    "data = pd.concat([fit_run, make_fit], axis=1)"
   ]
  },
  {
   "cell_type": "code",
   "execution_count": 36,
   "id": "f84a1c92",
   "metadata": {},
   "outputs": [],
   "source": [
    "data.query('averaging == 2', inplace = True)"
   ]
  },
  {
   "cell_type": "code",
   "execution_count": 37,
   "id": "a107ba43",
   "metadata": {},
   "outputs": [],
   "source": [
    "df_zero_err = data.where((data['break_point_err_mev'] == 0), np.nan)"
   ]
  },
  {
   "cell_type": "code",
   "execution_count": 39,
   "id": "ea7ab3d2",
   "metadata": {},
   "outputs": [
    {
     "data": {
      "image/png": "[encoded data removed]",
      "text/plain": [
       "<Figure size 936x720 with 1 Axes>"
      ]
     },
     "metadata": {
      "needs_background": "light"
     },
     "output_type": "display_data"
    }
   ],
   "source": [
    "f, ax = plt.subplots(figsize=(13,10)) \n",
    "ax.errorbar(x=data['c1'], y=data['gamma1'], yerr=data['gamma1_err'], xerr=data['c1_err'], color='red', fmt='o', ecolor='red', zorder=0, alpha=0.5)#, label='Flux average')\n",
    "\n",
    "ax.errorbar(df_zero_err.c1, df_zero_err.gamma1,yerr=data['gamma2_err'], xerr=data['c1_err'], fmt='o', markersize=5, c='black', label='zero err', alpha=1)\n",
    "#ax.plot(df_no_sig.Primary_energy, df_no_sig.Bg_subtracted_average, 'o', c='blue', markersize=11, label='excluded (sigma)')\n",
    "#ax.plot(df_rel_err.Primary_energy, df_rel_err.Bg_subtracted_average, 'o', c='orange', markersize=6, label='excluded (rel error)')\n",
    "\n",
    "\n",
    "ax.set_xlabel('$c_1$', size=20)\n",
    "ax.set_ylabel('$\\gamma_1$', size=20)\n",
    "plt.tick_params(axis='x', which='minor', labelsize=16)\n",
    "ax.xaxis.set_minor_formatter(FormatStrFormatter(\"%.2f\"))\n",
    "    #plt.tick_params(axis='y', which='minor')\n",
    "    #ax.yaxis.set_minor_formatter(FormatStrFormatter(\"%.0f\"))\n",
    "plt.legend(prop={'size': 18})\n",
    "plt.xticks(size=16)\n",
    "plt.yticks(size=16)\n",
    "#plt.grid()\n",
    "plt.title('')\n",
    "#ax.set_xlim(-0.2e4,0.15e5)\n",
    "#ax.set_xlim(0.001,0.15e5)\n",
    "\n",
    "ax.set_ylim(-10,0)\n",
    "ax.set_xscale('log')\n",
    "plt.show()\n",
    "\n",
    "#plt.scatter(data['break_point_mev'], data['gamma1'])\n",
    "\n",
    "#plt.scatter(data['break_point_mev'], data['gamma1'])\n",
    "\n",
    "#plt.scatter(data['c1'], data['gamma1'])"
   ]
  },
  {
   "cell_type": "code",
   "execution_count": 40,
   "id": "dc70db01",
   "metadata": {},
   "outputs": [
    {
     "data": {
      "image/png": "[encoded data removed]",
      "text/plain": [
       "<Figure size 936x720 with 1 Axes>"
      ]
     },
     "metadata": {
      "needs_background": "light"
     },
     "output_type": "display_data"
    }
   ],
   "source": [
    "f, ax = plt.subplots(figsize=(13,10)) \n",
    "ax.errorbar(x=data['c1'], y=data['gamma2'], yerr=data['gamma2_err'], xerr=data['c1_err'], color='red', fmt='o', ecolor='red', zorder=0, alpha=0.5)#, label='Flux average')\n",
    "\n",
    "ax.errorbar(df_zero_err.c1, df_zero_err.gamma2,yerr=data['gamma2_err'], xerr=data['c1_err'], fmt='o', markersize=5, c='black', label='zero err', alpha=1)\n",
    "#ax.plot(df_no_sig.Primary_energy, df_no_sig.Bg_subtracted_average, 'o', c='blue', markersize=11, label='excluded (sigma)')\n",
    "#ax.plot(df_rel_err.Primary_energy, df_rel_err.Bg_subtracted_average, 'o', c='orange', markersize=6, label='excluded (rel error)')\n",
    "\n",
    "\n",
    "ax.set_xlabel('$c_1$', size=20)\n",
    "ax.set_ylabel('$\\gamma_2$', size=20)\n",
    "plt.tick_params(axis='x', which='minor', labelsize=16)\n",
    "ax.xaxis.set_minor_formatter(FormatStrFormatter(\"%.2f\"))\n",
    "    #plt.tick_params(axis='y', which='minor')\n",
    "    #ax.yaxis.set_minor_formatter(FormatStrFormatter(\"%.0f\"))\n",
    "plt.legend(prop={'size': 18})\n",
    "plt.xticks(size=16)\n",
    "plt.yticks(size=16)\n",
    "#plt.grid()\n",
    "plt.title('')\n",
    "#ax.set_xlim(-0.2e4,0.15e5)\n",
    "ax.set_ylim(-10,5)\n",
    "ax.set_xscale('log')\n",
    "plt.show()\n",
    "\n",
    "#plt.scatter(data['break_point_mev'], data['gamma1'])\n",
    "\n",
    "#plt.scatter(data['break_point_mev'], data['gamma1'])\n",
    "\n",
    "#plt.scatter(data['c1'], data['gamma1'])"
   ]
  },
  {
   "cell_type": "code",
   "execution_count": 41,
   "id": "b09da4ee",
   "metadata": {},
   "outputs": [],
   "source": [
    "data = pd.concat([fit_run, make_fit], axis=1)"
   ]
  },
  {
   "cell_type": "code",
   "execution_count": 42,
   "id": "fe3da7bf",
   "metadata": {},
   "outputs": [],
   "source": [
    "data.query('averaging == 5 and final_fit_type == \"broken\" and type_of_fit == \"ept\"' , inplace = True)"
   ]
  },
  {
   "cell_type": "code",
   "execution_count": 43,
   "id": "1adbec35",
   "metadata": {},
   "outputs": [],
   "source": [
    "df_zero_err = data.where((data['break_point_err_mev'] == 0), np.nan)"
   ]
  },
  {
   "cell_type": "code",
   "execution_count": 45,
   "id": "67cc2fd8",
   "metadata": {},
   "outputs": [
    {
     "data": {
      "image/png": "[encoded data removed]",
      "text/plain": [
       "<Figure size 936x720 with 1 Axes>"
      ]
     },
     "metadata": {
      "needs_background": "light"
     },
     "output_type": "display_data"
    }
   ],
   "source": [
    "f, ax = plt.subplots(figsize=(13,10)) \n",
    "ax.errorbar(x=data['c1'], y=data['gamma1'], yerr=data['gamma1_err'], xerr=data['c1_err'], color='red', fmt='o', ecolor='red', zorder=0, alpha=0.5)#, label='Flux average')\n",
    "\n",
    "ax.errorbar(df_zero_err.c1, df_zero_err.gamma1,yerr=data['gamma2_err'], xerr=data['c1_err'], fmt='o', markersize=5, c='black', label='zero err', alpha=1)\n",
    "#ax.plot(df_no_sig.Primary_energy, df_no_sig.Bg_subtracted_average, 'o', c='blue', markersize=11, label='excluded (sigma)')\n",
    "#ax.plot(df_rel_err.Primary_energy, df_rel_err.Bg_subtracted_average, 'o', c='orange', markersize=6, label='excluded (rel error)')\n",
    "\n",
    "\n",
    "ax.set_xlabel('$c_1$', size=20)\n",
    "ax.set_ylabel('$\\gamma_1$', size=20)\n",
    "plt.tick_params(axis='x', which='minor', labelsize=16)\n",
    "ax.xaxis.set_minor_formatter(FormatStrFormatter(\"%.2f\"))\n",
    "    #plt.tick_params(axis='y', which='minor')\n",
    "    #ax.yaxis.set_minor_formatter(FormatStrFormatter(\"%.0f\"))\n",
    "plt.legend(prop={'size': 18})\n",
    "plt.xticks(size=16)\n",
    "plt.yticks(size=16)\n",
    "#plt.grid()\n",
    "plt.title('')\n",
    "#ax.set_xlim(-0.2e4,0.15e5)\n",
    "ax.set_ylim(-10,0)\n",
    "ax.set_xscale('log')\n",
    "plt.show()\n",
    "\n",
    "#plt.scatter(data['break_point_mev'], data['gamma1'])\n",
    "\n",
    "#plt.scatter(data['break_point_mev'], data['gamma1'])\n",
    "\n",
    "#plt.scatter(data['c1'], data['gamma1'])"
   ]
  },
  {
   "cell_type": "code",
   "execution_count": 46,
   "id": "84def2ce",
   "metadata": {},
   "outputs": [
    {
     "data": {
      "image/png": "[encoded data removed]",
      "text/plain": [
       "<Figure size 936x720 with 1 Axes>"
      ]
     },
     "metadata": {
      "needs_background": "light"
     },
     "output_type": "display_data"
    }
   ],
   "source": [
    "f, ax = plt.subplots(figsize=(13,10)) \n",
    "ax.errorbar(x=data['c1'], y=data['gamma2'], yerr=data['gamma2_err'], xerr=data['c1_err'], color='red', fmt='o', ecolor='red', zorder=0, alpha=0.5)#, label='Flux average')\n",
    "\n",
    "ax.errorbar(df_zero_err.c1, df_zero_err.gamma2,yerr=data['gamma2_err'], xerr=data['c1_err'], fmt='o', markersize=5, c='black', label='zero err', alpha=1)\n",
    "#ax.plot(df_no_sig.Primary_energy, df_no_sig.Bg_subtracted_average, 'o', c='blue', markersize=11, label='excluded (sigma)')\n",
    "#ax.plot(df_rel_err.Primary_energy, df_rel_err.Bg_subtracted_average, 'o', c='orange', markersize=6, label='excluded (rel error)')\n",
    "\n",
    "\n",
    "ax.set_xlabel('$c_1$', size=20)\n",
    "ax.set_ylabel('$\\gamma_2$', size=20)\n",
    "plt.tick_params(axis='x', which='minor', labelsize=16)\n",
    "ax.xaxis.set_minor_formatter(FormatStrFormatter(\"%.2f\"))\n",
    "    #plt.tick_params(axis='y', which='minor')\n",
    "    #ax.yaxis.set_minor_formatter(FormatStrFormatter(\"%.0f\"))\n",
    "plt.legend(prop={'size': 18})\n",
    "plt.xticks(size=16)\n",
    "plt.yticks(size=16)\n",
    "#plt.grid()\n",
    "plt.title('')\n",
    "#ax.set_xlim(-0.2e4,0.15e5)\n",
    "ax.set_ylim(-10,0)\n",
    "ax.set_xscale('log')\n",
    "plt.show()\n",
    "\n",
    "#plt.scatter(data['break_point_mev'], data['gamma1'])\n",
    "\n",
    "#plt.scatter(data['break_point_mev'], data['gamma1'])\n",
    "\n",
    "#plt.scatter(data['c1'], data['gamma1'])"
   ]
  },
  {
   "cell_type": "code",
   "execution_count": 47,
   "id": "bb84e212",
   "metadata": {},
   "outputs": [],
   "source": [
    "data = pd.concat([fit_run, make_fit], axis=1)"
   ]
  },
  {
   "cell_type": "code",
   "execution_count": 48,
   "id": "037ed581",
   "metadata": {},
   "outputs": [],
   "source": [
    "data.query('averaging == 5 and final_fit_type == \"single\" and type_of_fit == \"step_ept_het\"  ' , inplace = True)"
   ]
  },
  {
   "cell_type": "code",
   "execution_count": 49,
   "id": "90ea93fb",
   "metadata": {},
   "outputs": [
    {
     "data": {
      "text/plain": [
       "28    0.115216\n",
       "Name: max_e_mev, dtype: float64"
      ]
     },
     "execution_count": 49,
     "metadata": {},
     "output_type": "execute_result"
    }
   ],
   "source": [
    "data['max_e_mev']"
   ]
  },
  {
   "cell_type": "code",
   "execution_count": 50,
   "id": "e7db73fc",
   "metadata": {},
   "outputs": [],
   "source": [
    "df_zero_err = data.where((data['break_point_err_mev'] == 0), np.nan)"
   ]
  },
  {
   "cell_type": "code",
   "execution_count": 51,
   "id": "b56de463",
   "metadata": {
    "scrolled": false
   },
   "outputs": [
    {
     "data": {
      "image/png": "[encoded data removed]",
      "text/plain": [
       "<Figure size 936x720 with 1 Axes>"
      ]
     },
     "metadata": {
      "needs_background": "light"
     },
     "output_type": "display_data"
    }
   ],
   "source": [
    "f, ax = plt.subplots(figsize=(13,10)) \n",
    "ax.errorbar(x=data['c1'], y=data['gamma1'], yerr=data['gamma1_err'], xerr=data['c1_err'], color='red', fmt='o', ecolor='red', zorder=0, alpha=0.5)#, label='Flux average')\n",
    "\n",
    "ax.errorbar(df_zero_err.c1, df_zero_err.gamma1,yerr=data['gamma2_err'], xerr=data['c1_err'], fmt='o', markersize=5, c='black', label='zero err', alpha=1)\n",
    "#ax.plot(df_no_sig.Primary_energy, df_no_sig.Bg_subtracted_average, 'o', c='blue', markersize=11, label='excluded (sigma)')\n",
    "#ax.plot(df_rel_err.Primary_energy, df_rel_err.Bg_subtracted_average, 'o', c='orange', markersize=6, label='excluded (rel error)')\n",
    "\n",
    "\n",
    "ax.set_xlabel('$c_1$', size=20)\n",
    "ax.set_ylabel('$\\gamma_1$', size=20)\n",
    "plt.tick_params(axis='x', which='minor', labelsize=16)\n",
    "ax.xaxis.set_minor_formatter(FormatStrFormatter(\"%.2f\"))\n",
    "    #plt.tick_params(axis='y', which='minor')\n",
    "    #ax.yaxis.set_minor_formatter(FormatStrFormatter(\"%.0f\"))\n",
    "plt.legend(prop={'size': 18})\n",
    "plt.xticks(size=16)\n",
    "plt.yticks(size=16)\n",
    "#plt.grid()\n",
    "plt.title('')\n",
    "#ax.set_xlim(-0.2e4,0.15e5)\n",
    "#ax.set_ylim(-10,5)\n",
    "\n",
    "plt.show()\n",
    "\n",
    "#plt.scatter(data['break_point_mev'], data['gamma1'])\n",
    "\n",
    "#plt.scatter(data['break_point_mev'], data['gamma1'])\n",
    "\n",
    "#plt.scatter(data['c1'], data['gamma1'])"
   ]
  },
  {
   "cell_type": "code",
   "execution_count": 52,
   "id": "4a6517c2",
   "metadata": {},
   "outputs": [],
   "source": [
    "data = pd.concat([fit_run, make_fit], axis=1)"
   ]
  },
  {
   "cell_type": "code",
   "execution_count": 53,
   "id": "81a430ef",
   "metadata": {},
   "outputs": [],
   "source": [
    "data.query('averaging == 2 and final_fit_type == \"broken\"' , inplace = True)"
   ]
  },
  {
   "cell_type": "code",
   "execution_count": 54,
   "id": "26de75f8",
   "metadata": {},
   "outputs": [],
   "source": [
    "df_zero_err = data.where((data['break_point_err_mev'] == 0), np.nan)"
   ]
  },
  {
   "cell_type": "code",
   "execution_count": 55,
   "id": "9d804d77",
   "metadata": {},
   "outputs": [
    {
     "name": "stderr",
     "output_type": "stream",
     "text": [
      "C:\\Users\\Omistaja\\Anaconda3\\envs\\annamaria\\lib\\site-packages\\numpy\\core\\_methods.py:44: RuntimeWarning: invalid value encountered in reduce\n",
      "  return umr_minimum(a, axis, None, out, keepdims, initial, where)\n",
      "C:\\Users\\Omistaja\\Anaconda3\\envs\\annamaria\\lib\\site-packages\\numpy\\core\\_methods.py:40: RuntimeWarning: invalid value encountered in reduce\n",
      "  return umr_maximum(a, axis, None, out, keepdims, initial, where)\n"
     ]
    },
    {
     "data": {
      "image/png": "[encoded data removed]",
      "text/plain": [
       "<Figure size 936x720 with 1 Axes>"
      ]
     },
     "metadata": {
      "needs_background": "light"
     },
     "output_type": "display_data"
    }
   ],
   "source": [
    "f, ax = plt.subplots(figsize=(13,10)) \n",
    "ax.errorbar(x=data['c1'], y=data['gamma1'], yerr=data['gamma1_err'], xerr=data['c1_err'], color='red', fmt='o', ecolor='red', zorder=0, alpha=0.5)#, label='Flux average')\n",
    "\n",
    "ax.errorbar(df_zero_err.c1, df_zero_err.gamma1,yerr=data['gamma2_err'], xerr=data['c1_err'], fmt='o', markersize=5, c='black', label='zero err', alpha=1)\n",
    "#ax.plot(df_no_sig.Primary_energy, df_no_sig.Bg_subtracted_average, 'o', c='blue', markersize=11, label='excluded (sigma)')\n",
    "#ax.plot(df_rel_err.Primary_energy, df_rel_err.Bg_subtracted_average, 'o', c='orange', markersize=6, label='excluded (rel error)')\n",
    "\n",
    "\n",
    "ax.set_xlabel('$c_1$', size=20)\n",
    "ax.set_ylabel('$\\gamma_1$', size=20)\n",
    "plt.tick_params(axis='x', which='minor', labelsize=16)\n",
    "ax.xaxis.set_minor_formatter(FormatStrFormatter(\"%.2f\"))\n",
    "    #plt.tick_params(axis='y', which='minor')\n",
    "    #ax.yaxis.set_minor_formatter(FormatStrFormatter(\"%.0f\"))\n",
    "plt.legend(prop={'size': 18})\n",
    "plt.xticks(size=16)\n",
    "plt.yticks(size=16)\n",
    "#plt.grid()\n",
    "plt.title('')\n",
    "ax.set_xlim(-0.2e4,0.15e5)\n",
    "ax.set_ylim(-10,5)\n",
    "\n",
    "plt.show()\n",
    "\n",
    "#plt.scatter(data['break_point_mev'], data['gamma1'])\n",
    "\n",
    "#plt.scatter(data['break_point_mev'], data['gamma1'])\n",
    "\n",
    "#plt.scatter(data['c1'], data['gamma1'])"
   ]
  },
  {
   "cell_type": "code",
   "execution_count": 56,
   "id": "3662663a",
   "metadata": {},
   "outputs": [],
   "source": [
    "data = pd.concat([fit_run, make_fit], axis=1)"
   ]
  },
  {
   "cell_type": "code",
   "execution_count": 61,
   "id": "dadd3959",
   "metadata": {},
   "outputs": [
    {
     "data": {
      "text/plain": [
       "Text(0.5, 0, '$\\\\gamma_1$')"
      ]
     },
     "execution_count": 61,
     "metadata": {},
     "output_type": "execute_result"
    },
    {
     "data": {
      "image/png": "[encoded data removed]",
      "text/plain": [
       "<Figure size 432x288 with 1 Axes>"
      ]
     },
     "metadata": {
      "needs_background": "light"
     },
     "output_type": "display_data"
    }
   ],
   "source": [
    "plt.hist(data['gamma1'], bins=np.arange(-10,0,0.1), align='right', color='purple', edgecolor='black')\n",
    "plt.xlabel('$\\gamma_1$')"
   ]
  },
  {
   "cell_type": "code",
   "execution_count": 63,
   "id": "41a8e848",
   "metadata": {},
   "outputs": [
    {
     "data": {
      "text/plain": [
       "Text(0.5, 0, '$\\\\gamma_2$')"
      ]
     },
     "execution_count": 63,
     "metadata": {},
     "output_type": "execute_result"
    },
    {
     "data": {
      "image/png": "[encoded data removed]",
      "text/plain": [
       "<Figure size 432x288 with 1 Axes>"
      ]
     },
     "metadata": {
      "needs_background": "light"
     },
     "output_type": "display_data"
    }
   ],
   "source": [
    "plt.hist(data['gamma2'], bins=np.arange(-20,0,0.2), align='right', color='purple', edgecolor='black')\n",
    "plt.xlabel('$\\gamma_2$')"
   ]
  },
  {
   "cell_type": "code",
   "execution_count": 64,
   "id": "73d941be",
   "metadata": {},
   "outputs": [
    {
     "data": {
      "text/plain": [
       "Text(0.5, 0, 'Break point [MeV]')"
      ]
     },
     "execution_count": 64,
     "metadata": {},
     "output_type": "execute_result"
    },
    {
     "data": {
      "image/png": "[encoded data removed]",
      "text/plain": [
       "<Figure size 432x288 with 1 Axes>"
      ]
     },
     "metadata": {
      "needs_background": "light"
     },
     "output_type": "display_data"
    }
   ],
   "source": [
    "plt.hist(data['break_point_mev'], bins=np.arange(0,0.5,0.01), align='right', color='purple', edgecolor='black')\n",
    "plt.xlabel('Break point [MeV]')\n",
    "#plt.hist(data['break_point_mev'])"
   ]
  },
  {
   "cell_type": "code",
   "execution_count": 65,
   "id": "e21e2b48",
   "metadata": {},
   "outputs": [
    {
     "data": {
      "text/plain": [
       "Text(0.5, 0, '$c_1$')"
      ]
     },
     "execution_count": 65,
     "metadata": {},
     "output_type": "execute_result"
    },
    {
     "data": {
      "image/png": "[encoded data removed]",
      "text/plain": [
       "<Figure size 432x288 with 1 Axes>"
      ]
     },
     "metadata": {
      "needs_background": "light"
     },
     "output_type": "display_data"
    }
   ],
   "source": [
    "plt.hist(data['c1'], bins=np.arange(0,500,10), align='right', color='purple', edgecolor='black')\n",
    "plt.xlabel('$c_1$')\n",
    "#plt.hist(data['break_point_mev'])"
   ]
  },
  {
   "cell_type": "code",
   "execution_count": 67,
   "id": "cb76d979",
   "metadata": {},
   "outputs": [
    {
     "data": {
      "text/plain": [
       "Text(0.5, 0, '$\\\\alpha$')"
      ]
     },
     "execution_count": 67,
     "metadata": {},
     "output_type": "execute_result"
    },
    {
     "data": {
      "image/png": "[encoded data removed]",
      "text/plain": [
       "<Figure size 432x288 with 1 Axes>"
      ]
     },
     "metadata": {
      "needs_background": "light"
     },
     "output_type": "display_data"
    }
   ],
   "source": [
    "plt.hist(data['alpha'], bins=20, align='right', color='purple', edgecolor='black')\n",
    "plt.xlabel(r'$\\alpha$')"
   ]
  },
  {
   "cell_type": "code",
   "execution_count": 68,
   "id": "4fef977a",
   "metadata": {},
   "outputs": [],
   "source": [
    "# data = pd.concat([fit_run, make_fit], axis=1)\n",
    "data.query('averaging == 5 and final_fit_type == \"broken\" and min_e_mev<0.06 and max_e_mev >0.12' , inplace = True)"
   ]
  },
  {
   "cell_type": "code",
   "execution_count": 69,
   "id": "2cd00b53",
   "metadata": {},
   "outputs": [
    {
     "data": {
      "text/plain": [
       "Text(0.5, 0, 'Break point [MeV]')"
      ]
     },
     "execution_count": 69,
     "metadata": {},
     "output_type": "execute_result"
    },
    {
     "data": {
      "image/png": "[encoded data removed]",
      "text/plain": [
       "<Figure size 432x288 with 1 Axes>"
      ]
     },
     "metadata": {
      "needs_background": "light"
     },
     "output_type": "display_data"
    }
   ],
   "source": [
    "plt.hist(data['break_point_mev'], bins=np.arange(0,0.2,0.01), align='right', color='purple', edgecolor='black')\n",
    "plt.xlabel('Break point [MeV]')\n",
    "#plt.hist(data['break_point_mev'])"
   ]
  },
  {
   "cell_type": "code",
   "execution_count": 70,
   "id": "1343c0f7",
   "metadata": {},
   "outputs": [
    {
     "name": "stdout",
     "output_type": "stream",
     "text": [
      "12\n",
      "3      0.080302\n",
      "56     0.074636\n",
      "74     0.039791\n",
      "90     0.278465\n",
      "104    0.106941\n",
      "119    0.074675\n",
      "140    0.076785\n",
      "164    0.060119\n",
      "179    0.072937\n",
      "224    0.058386\n",
      "254    0.075014\n",
      "281    0.052045\n",
      "Name: break_point_mev, dtype: float64\n"
     ]
    }
   ],
   "source": [
    "data = pd.concat([fit_run, make_fit], axis=1)\n",
    "data.query('averaging == 2 and final_fit_type == \"broken\" and type_of_fit == \"ept\"' , inplace = True)\n",
    "print(len(data.index))\n",
    "print(data['break_point_mev'])"
   ]
  },
  {
   "cell_type": "code",
   "execution_count": 71,
   "id": "d5c9def1",
   "metadata": {},
   "outputs": [
    {
     "data": {
      "text/plain": [
       "Text(0.5, 0, 'Break point [MeV]')"
      ]
     },
     "execution_count": 71,
     "metadata": {},
     "output_type": "execute_result"
    },
    {
     "data": {
      "image/png": "[encoded data removed]",
      "text/plain": [
       "<Figure size 432x288 with 1 Axes>"
      ]
     },
     "metadata": {
      "needs_background": "light"
     },
     "output_type": "display_data"
    }
   ],
   "source": [
    "plt.hist(data['break_point_mev'], bins=np.arange(0,0.5,0.01), align='right', color='purple', edgecolor='black')\n",
    "plt.xlabel('Break point [MeV]')\n",
    "#plt.hist(data['break_point_mev'])"
   ]
  },
  {
   "cell_type": "code",
   "execution_count": 72,
   "id": "2ac18787",
   "metadata": {},
   "outputs": [
    {
     "data": {
      "text/plain": [
       "Index(['Source.Name', 'Column1', 'date', 'averaging_min', 'direction',\n",
       "       'data_type', 'min_e_mev', 'max_e_mev', 'distance_au', 'STEP', 'EPT',\n",
       "       'HET', 'sigma', 'relative_error', 'fraction_of_nan',\n",
       "       'leave_first_het_channel_out', 'shift_step_data', 'type_of_fit',\n",
       "       'fit_to', 'window', 'which_fit', 'min_energy', 'max_energy',\n",
       "       'gamma1_guess', 'gamma2_guess', 'c1_guess', 'alpha_guess',\n",
       "       'break_guess_mev', 'cutoff_point_guess_mev', 'use_random', 'iterations',\n",
       "       'Source.Name', 'averaging', 'final_fit_type', 'reduced_chi_sq', 'c1',\n",
       "       'c1_err', 'gamma1', 'gamma1_err', 'gamma2', 'gamma2_err',\n",
       "       'break_point_mev', 'break_point_err_mev', 'exp_cutoff_point_mev',\n",
       "       'cutoff_err_mev', 'alpha', 'year', 'month', 'day', 'time', 'fit_to',\n",
       "       'fit_type', 'data', 'aver', 'step', 'ept', 'het'],\n",
       "      dtype='object')"
      ]
     },
     "execution_count": 72,
     "metadata": {},
     "output_type": "execute_result"
    }
   ],
   "source": [
    "data.columns"
   ]
  },
  {
   "cell_type": "code",
   "execution_count": 73,
   "id": "af9c8db4",
   "metadata": {},
   "outputs": [
    {
     "data": {
      "text/plain": [
       "2021-05-22    57\n",
       "2021-05-23    36\n",
       "2021-08-26    30\n",
       "2020-11-17    25\n",
       "2020-11-18    20\n",
       "2021-05-09    16\n",
       "2021-05-07    15\n",
       "2021-09-28    15\n",
       "2021-04-17    14\n",
       "2021-08-28    12\n",
       "2020-11-19    10\n",
       "2021-02-15     9\n",
       "2021-03-05     9\n",
       "2021-07-23     9\n",
       "2021-10-09     6\n",
       "Name: date, dtype: int64"
      ]
     },
     "execution_count": 73,
     "metadata": {},
     "output_type": "execute_result"
    }
   ],
   "source": [
    "data = pd.concat([fit_run, make_fit], axis=1)\n",
    "data['date'].value_counts()"
   ]
  },
  {
   "cell_type": "code",
   "execution_count": 74,
   "id": "111d8f59",
   "metadata": {},
   "outputs": [
    {
     "name": "stdout",
     "output_type": "stream",
     "text": [
      "47\n"
     ]
    }
   ],
   "source": [
    "data = pd.concat([fit_run, make_fit], axis=1)\n",
    "data.query('averaging == 1 and final_fit_type == \"broken\" and min_e_mev<0.06 and max_e_mev >0.12' , inplace = True)\n",
    "print(len(data.index))"
   ]
  },
  {
   "cell_type": "code",
   "execution_count": 75,
   "id": "68621589",
   "metadata": {},
   "outputs": [
    {
     "data": {
      "text/plain": [
       "Text(0.5, 0, 'Break point [MeV]')"
      ]
     },
     "execution_count": 75,
     "metadata": {},
     "output_type": "execute_result"
    },
    {
     "data": {
      "image/png": "[encoded data removed]",
      "text/plain": [
       "<Figure size 432x288 with 1 Axes>"
      ]
     },
     "metadata": {
      "needs_background": "light"
     },
     "output_type": "display_data"
    }
   ],
   "source": [
    "plt.hist(data['break_point_mev'], bins=np.arange(0,0.2,0.01), align='right', color='purple', edgecolor='black')\n",
    "plt.xlabel('Break point [MeV]')\n",
    "#plt.hist(data['break_point_mev'])"
   ]
  },
  {
   "cell_type": "code",
   "execution_count": 76,
   "id": "a6be81be",
   "metadata": {},
   "outputs": [],
   "source": [
    "data = pd.concat([fit_run, make_fit], axis=1)\n",
    "data.query('averaging == 5 and final_fit_type == \"cut\" ' , inplace = True)"
   ]
  },
  {
   "cell_type": "code",
   "execution_count": null,
   "id": "549cf7bc",
   "metadata": {},
   "outputs": [],
   "source": []
  },
  {
   "cell_type": "code",
   "execution_count": 77,
   "id": "550998c1",
   "metadata": {},
   "outputs": [],
   "source": [
    "data = pd.concat([fit_run, make_fit], axis=1)\n",
    "data.query('averaging == 5 and final_fit_type == \"broken_cut\" and min_e_mev<0.06 and max_e_mev >0.12' , inplace = True)"
   ]
  },
  {
   "cell_type": "code",
   "execution_count": 78,
   "id": "a333b977",
   "metadata": {},
   "outputs": [
    {
     "data": {
      "text/plain": [
       "Text(0.5, 0, 'Exp cutoff point [MeV]')"
      ]
     },
     "execution_count": 78,
     "metadata": {},
     "output_type": "execute_result"
    },
    {
     "data": {
      "image/png": "[encoded data removed]",
      "text/plain": [
       "<Figure size 432x288 with 1 Axes>"
      ]
     },
     "metadata": {
      "needs_background": "light"
     },
     "output_type": "display_data"
    }
   ],
   "source": [
    "plt.hist(data['exp_cutoff_point_mev'], bins=np.arange(0,0.2,0.01), align='right', color='purple', edgecolor='black')\n",
    "plt.xlabel('Exp cutoff point [MeV]')"
   ]
  },
  {
   "cell_type": "code",
   "execution_count": 79,
   "id": "585b57cc",
   "metadata": {},
   "outputs": [
    {
     "data": {
      "text/plain": [
       "Text(0.5, 0, 'Break point [MeV]')"
      ]
     },
     "execution_count": 79,
     "metadata": {},
     "output_type": "execute_result"
    },
    {
     "data": {
      "image/png": "[encoded data removed]",
      "text/plain": [
       "<Figure size 432x288 with 1 Axes>"
      ]
     },
     "metadata": {
      "needs_background": "light"
     },
     "output_type": "display_data"
    }
   ],
   "source": [
    "plt.hist(data['break_point_mev'], bins=np.arange(0,0.2,0.01), align='right', color='purple', edgecolor='black')\n",
    "plt.xlabel('Break point [MeV]')"
   ]
  },
  {
   "cell_type": "code",
   "execution_count": 80,
   "id": "e538910e",
   "metadata": {},
   "outputs": [],
   "source": [
    "data = pd.concat([fit_run, make_fit], axis=1)"
   ]
  },
  {
   "cell_type": "code",
   "execution_count": 56,
   "id": "db6524d1",
   "metadata": {},
   "outputs": [
    {
     "data": {
      "text/plain": [
       "ept             78\n",
       "step_ept        71\n",
       "step            71\n",
       "step_ept_het    39\n",
       "ept_het         33\n",
       "Name: type_of_fit, dtype: int64"
      ]
     },
     "execution_count": 56,
     "metadata": {},
     "output_type": "execute_result"
    }
   ],
   "source": [
    "data['type_of_fit'].value_counts()"
   ]
  },
  {
   "cell_type": "code",
   "execution_count": 57,
   "id": "b63a2991",
   "metadata": {},
   "outputs": [
    {
     "ename": "NameError",
     "evalue": "name 'n' is not defined",
     "output_type": "error",
     "traceback": [
      "\u001b[1;31m---------------------------------------------------------------------------\u001b[0m",
      "\u001b[1;31mNameError\u001b[0m                                 Traceback (most recent call last)",
      "Input \u001b[1;32mIn [57]\u001b[0m, in \u001b[0;36m<cell line: 2>\u001b[1;34m()\u001b[0m\n\u001b[0;32m      1\u001b[0m nums \u001b[38;5;241m=\u001b[39m [\u001b[38;5;241m78\u001b[39m,\u001b[38;5;241m71\u001b[39m,\u001b[38;5;241m71\u001b[39m,\u001b[38;5;241m39\u001b[39m,\u001b[38;5;241m33\u001b[39m]\n\u001b[1;32m----> 2\u001b[0m \u001b[43mn\u001b[49m\n",
      "\u001b[1;31mNameError\u001b[0m: name 'n' is not defined"
     ]
    }
   ],
   "source": [
    "nums = [78,71,71,39,33]\n",
    "n"
   ]
  },
  {
   "cell_type": "code",
   "execution_count": null,
   "id": "381cb8aa",
   "metadata": {},
   "outputs": [],
   "source": [
    "data.groupby(['type_of_fit']).sum().plot(kind='pie', y='type_of_fit')"
   ]
  },
  {
   "cell_type": "code",
   "execution_count": null,
   "id": "ce1b01ff",
   "metadata": {},
   "outputs": [],
   "source": [
    "df = px.data.gapminder().query(\"year == 2007\").query(\"continent == 'Europe'\")\n",
    "df.loc[df['pop'] < 2.e6, 'country'] = 'Other countries' # Represent only large countries\n",
    "fig = px.pie(df, values='pop', names='country', title='Population of European continent')\n",
    "fig.show()"
   ]
  },
  {
   "cell_type": "code",
   "execution_count": null,
   "id": "2bd1ef91",
   "metadata": {},
   "outputs": [],
   "source": [
    "labels = 'ept', 'step', 'het', 'step_ept', 'ept_het', 'step_ept_het'\n",
    "#sizes = [15, 30, 45, 10]\n",
    " \n",
    "colors = ( \"orange\", \"cyan\", \"brown\", \n",
    "          \"grey\") \n",
    "fig1, ax1 = plt.subplots()\n",
    "explode = (0, 0.1, 0, 0) \n",
    " \n",
    "ax1.pie(sizes, colors = colors, explode=explode, labels=labels,autopct='%1.1f%%', shadow=True, startangle=90)\n",
    "patches, texts, auto = ax1.pie(sizes, colors=colors, shadow=True, startangle=90,explode=explode, autopct='%1.1f%%' )\n",
    " \n",
    "plt.legend(patches, labels, loc=\"best\")\n",
    "plt.show()"
   ]
  }
 ],
 "metadata": {
  "kernelspec": {
   "display_name": "Python 3 (ipykernel)",
   "language": "python",
   "name": "python3"
  },
  "language_info": {
   "codemirror_mode": {
    "name": "ipython",
    "version": 3
   },
   "file_extension": ".py",
   "mimetype": "text/x-python",
   "name": "python",
   "nbconvert_exporter": "python",
   "pygments_lexer": "ipython3",
   "version": "3.7.13"
  }
 },
 "nbformat": 4,
 "nbformat_minor": 5
}
